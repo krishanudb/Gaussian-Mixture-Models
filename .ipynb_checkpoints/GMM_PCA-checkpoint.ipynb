{
 "cells": [
  {
   "cell_type": "code",
   "execution_count": 1,
   "metadata": {
    "collapsed": true
   },
   "outputs": [],
   "source": [
    "import numpy as np\n",
    "import matplotlib.pyplot as plt\n",
    "import pandas as pd"
   ]
  },
  {
   "cell_type": "markdown",
   "metadata": {},
   "source": [
    "### Code for GMM and EM"
   ]
  },
  {
   "cell_type": "code",
   "execution_count": 35,
   "metadata": {
    "collapsed": true
   },
   "outputs": [],
   "source": [
    "import numpy as np\n",
    "\n",
    "class GMM():\n",
    "    def __init__(self, n_components, data):\n",
    "        self.num_data = data.shape[0]\n",
    "        self.dimension = data.shape[1]\n",
    "        self.data = data\n",
    "        self.components = n_components\n",
    "        self.means = self.initialize_means()\n",
    "        self.covariances = self.initialize_variances()\n",
    "        self.lambdas = self.initialize_lambdas()\n",
    "            \n",
    "    \n",
    "    def initialize_means(self): \n",
    "        random_choice = np.random.choice(self.num_data, self.components, replace = False)\n",
    "        means_ = self.data[random_choice]\n",
    "        return means_\n",
    "        \n",
    "    def initialize_variances(self):\n",
    "        covariances_ = np.zeros((self.components, self.dimension, self.dimension))\n",
    "        for i in range(self.components):\n",
    "            covariances_[i] = np.cov(self.data, rowvar = False)\n",
    "        return covariances_    \n",
    "    \n",
    "    def initialize_lambdas(self):\n",
    "        return np.ones([self.components]) / float(self.components)\n",
    "        \n",
    "        \n",
    "    def initialize_gammas(self):\n",
    "        \"\"\"Initializes gammas to random values maintaining their sum = 1 for each component\"\"\"\n",
    "        gammas_ = np.random.rand(self.components, self.num_data)\n",
    "        gammas_ = gammas_ / gammas_.sum(0)\n",
    "        return gammas_\n",
    "        \n",
    "    def calculate_means(self):\n",
    "        \"\"\"Calculates the means based on the current values of gammas\"\"\"\n",
    "#         print(self.num_data, self.components, self.dimension)\n",
    "        means_ = np.zeros((self.components, self.dimension))\n",
    "        for i in range(self.components):\n",
    "            for j in range(self.num_data):\n",
    "                means_[i] += self.gammas[i][j] * self.data[j] / self.gammas[i].sum()\n",
    "        return means_\n",
    "        \n",
    "    def calculate_variances(self):\n",
    "        \"\"\"Calculates the covariances based on the current values of gammas\"\"\"\n",
    "\n",
    "        covariances_ = np.zeros((self.components, self.dimension, self.dimension))\n",
    "        for i in range(self.components):\n",
    "            for j in range(self.num_data):\n",
    "                covariances_[i] += self.gammas[i][j] * np.dot((self.data[j] - self.means[i]).reshape(-1, 1), (self.data[j] - self.means[i]).reshape(-1, 1).T) / self.gammas[i].sum()\n",
    "                if np.log(np.linalg.det(covariances_[i])) < -800:\n",
    "#                     print(np.power(np.e, -20))\n",
    "#                     print(\"Entering {}\".format(np.log(np.linalg.det(covariances_[i]))))\n",
    "                    covariances_[i] = np.cov(self.data, rowvar = False) / 100.\n",
    "                    self.means[i] = self.data[np.random.choice(self.num_data)]\n",
    "        return covariances_\n",
    "    \n",
    "    def calculate_lambdas(self):\n",
    "        \"\"\"Updates lambdas based on the values of gamma\"\"\"\n",
    "        return self.gammas.sum(1)/self.gammas.sum()\n",
    "    \n",
    "    def calculate_gammas(self):\n",
    "        \"\"\"Updates gammas based on the values of the means, covariances and lambdas\"\"\"\n",
    "        gammas_ = np.zeros((self.components, self.num_data))\n",
    "        for i in range(self.components):\n",
    "            for j in range(self.num_data):\n",
    "                gammas_[i, j] = self.lambdas[i] * self.gaussian_probability(self.data[j], self.means[i], self.covariances[i])\n",
    "        gammas_ = gammas_ / gammas_.sum(0)\n",
    "        return gammas_\n",
    "    \n",
    "    def calculate_likelihood(self):\n",
    "        \"\"\"Calculates the likelihood of data given parameters. We need to stop EM when likelihood saturates\"\"\"\n",
    "        prb = np.zeros((self.num_data))\n",
    "        for j in range(self.num_data):\n",
    "            for i in range(self.components):\n",
    "                prb[j] += self.lambdas[i] * self.gaussian_probability(self.data[j], self.means[i], self.covariances[i])\n",
    "        likelihood_ = np.sum(np.log(prb))\n",
    "#         print(\"Likelihood {}\".format(likelihood_))\n",
    "        return likelihood_\n",
    "    \n",
    "    def gaussian_probability(self, x_, mu_, sigma_):\n",
    "        \"\"\"Given the datapoint, mean for the component and the variance matrix of the component, calculates the probability\"\"\"\n",
    "        x_ = x_.reshape(-1, 1)\n",
    "        mu_ = mu_.reshape(-1, 1)\n",
    "\n",
    "        prob_ = (1. / (np.power(2 * np.pi, self.dimension / 2.) * np.power(np.linalg.det(sigma_), 0.5))) * np.exp(- 0.5 * np.dot((x_ - mu_).T, np.dot(np.linalg.inv(sigma_), (x_ - mu_))))\n",
    "        prob_ = float(prob_.reshape(1))\n",
    "#         print(prob_)\n",
    "        return prob_\n",
    "\n",
    "    def calculate_probability(self, X):\n",
    "        prb = np.zeros((X.shape[0]))\n",
    "        for j in range(X.shape[0]):\n",
    "            for i in range(self.components):\n",
    "                prb[j] += self.lambdas[i] * self.gaussian_probability(X[j], self.means[i], self.covariances[i])\n",
    "        return prb\n",
    "\n",
    "    def generate_data(self, n_data):\n",
    "        \"\"\"creates a list of data points\"\"\"    \n",
    "    \n",
    "        data_ = np.zeros((n_data, self.dimension))\n",
    "        for i in range(n_data):\n",
    "            # pick a cluster id and create data from this cluster\n",
    "            k = np.random.choice(self.components, size = 1, p = self.lambdas)[0]\n",
    "            x = np.random.multivariate_normal(self.means[k], self.covariances[k])\n",
    "            data_[i] = x\n",
    "\n",
    "        return data_\n",
    "\n",
    "\n",
    "    def EM(self, max_iter, show_plot = True, print_likelihood = True):\n",
    "        likelihood_list = []\n",
    "        converged = False\n",
    "        optimal_params = {}\n",
    "        optims_set = False\n",
    "        for i in range(max_iter):\n",
    "            self.gammas = self.calculate_gammas() # E STEP\n",
    "            self.means = self.calculate_means() # M STEP\n",
    "            self.covariances = self.calculate_variances() # M STEP\n",
    "            self.lambdas = self.calculate_lambdas() # M STEP\n",
    "            likelihood_ = self.calculate_likelihood() # CALCULATE LIKELIHOOD\n",
    "            if i > 1:\n",
    "                if likelihood_ > max(likelihood_list): \n",
    "                    # SET ALL VALUES TO THE PARAMETER VALUES WHICH OBTAINED HIGHEST LIKELIHOOD\n",
    "                    optims_set = True\n",
    "                    optimal_params[\"means\"] = self.means.copy()\n",
    "                    optimal_params[\"covariances\"] = self.covariances.copy()\n",
    "                    optimal_params[\"gammas\"] = self.gammas.copy()\n",
    "                    optimal_params[\"lambdas\"] = self.lambdas.copy()\n",
    "            likelihood_list.append(likelihood_)\n",
    "            if print_likelihood:\n",
    "                if i % (max_iter / 20) == 0:\n",
    "                    print(\"Iteration {}, Log Likelihood {}\".format(i, likelihood_list[-1]))\n",
    "            if len(likelihood_list) > 50:\n",
    "                if likelihood_list[-25] >= likelihood_list[-1]:\n",
    "                    if print_likelihood:\n",
    "                        print(\"Converged\")\n",
    "                    converged = True\n",
    "            if converged:\n",
    "                break\n",
    "        if optims_set:\n",
    "            self.means = optimal_params[\"means\"]\n",
    "            self.covariances = optimal_params[\"covariances\"]\n",
    "            self.gammas = optimal_params[\"gammas\"]\n",
    "            self.lambdas = optimal_params[\"lambdas\"]\n",
    "            self.likelihood_list = likelihood_list\n",
    "        if show_plot:\n",
    "            self.show_likelihood_plot()\n",
    "#         return likelihood_list\n",
    "    \n",
    "    def show_likelihood_plot(self):\n",
    "        plt.figure(figsize=(10, 5))\n",
    "        plt.plot(self.likelihood_list)\n",
    "        plt.ylabel(\"Log Likelihood of Data given Parameters\")\n",
    "        plt.xlabel(\"Iterations\")\n",
    "        plt.show()"
   ]
  },
  {
   "cell_type": "markdown",
   "metadata": {},
   "source": [
    "### Code for PCA"
   ]
  },
  {
   "cell_type": "code",
   "execution_count": 36,
   "metadata": {
    "collapsed": true
   },
   "outputs": [],
   "source": [
    "class PCA:\n",
    "    def __init__(self, data):\n",
    "        self.num_data = data.shape[0]\n",
    "        self.dimension = data.shape[1]\n",
    "        self.data = data\n",
    "        self.covariance = self.compute_covariance(data)\n",
    "        self.principal_components, self.principal_axes = self.compute_pca()\n",
    "    \n",
    "    def compute_covariance(self, X):\n",
    "        return np.cov(X.T)\n",
    "    \n",
    "    def compute_pca(self):\n",
    "        eigen_values, eigen_vectors = np.linalg.eig(self.covariance)\n",
    "        eigen_values, eigen_vectors = eigen_values.real, eigen_vectors.real\n",
    "        eigen = []\n",
    "        for i in range(len(eigen_values)):\n",
    "            eigen.append((eigen_values[i], eigen_vectors[:, i]))\n",
    "        eigen.sort(key=lambda x: x[0], reverse = True)\n",
    "        principal_axes = np.array([x[1] for x in eigen])\n",
    "        principal_comps = np.array([x[0] for x in eigen])\n",
    "        return principal_comps, principal_axes\n",
    "    \n",
    "    def get_principal_axes(self, num):\n",
    "        return self.principal_axes[:num]\n",
    "    \n",
    "    def get_projection(self, num, X):\n",
    "        n_axes = self.get_principal_axes(num)\n",
    "        projections = np.dot(n_axes, X.T)\n",
    "        return projections.T\n",
    "    \n",
    "    def inverse_PCA(self, X):\n",
    "        num = X.shape[1]\n",
    "        n_axes = self.get_principal_axes(num)\n",
    "        original_projections = np.dot(X, n_axes)\n",
    "        return original_projections"
   ]
  },
  {
   "cell_type": "markdown",
   "metadata": {},
   "source": [
    "### Reading in the MNIST Dataset"
   ]
  },
  {
   "cell_type": "code",
   "execution_count": 37,
   "metadata": {
    "collapsed": true
   },
   "outputs": [],
   "source": [
    "df = pd.read_csv(\"train.csv\", header=0, index_col=0)\n",
    "data_flat = {}\n",
    "data_image = {}\n",
    "for i in range(9):\n",
    "    x = df[df.index == i]\n",
    "    data_flat[i] = np.array(x)\n",
    "    x = np.array(x).reshape(len(x), 28, 28)\n",
    "    data_image[i] = x"
   ]
  },
  {
   "cell_type": "markdown",
   "metadata": {},
   "source": [
    "### Working with 1000 samples of the number/class 8\n",
    "All images are not used in order to save time in training the GMM"
   ]
  },
  {
   "cell_type": "markdown",
   "metadata": {},
   "source": [
    "### PCA is done on the entire dataset"
   ]
  },
  {
   "cell_type": "code",
   "execution_count": 38,
   "metadata": {
    "collapsed": true
   },
   "outputs": [],
   "source": [
    "pca = PCA(np.array(df))"
   ]
  },
  {
   "cell_type": "code",
   "execution_count": 39,
   "metadata": {},
   "outputs": [],
   "source": [
    "Xo = data_flat[8]\n",
    "X = Xo[:1000]\n",
    "Xt = Xo[1000:1100]"
   ]
  },
  {
   "cell_type": "markdown",
   "metadata": {},
   "source": [
    "### Showing a few sample images"
   ]
  },
  {
   "cell_type": "code",
   "execution_count": 40,
   "metadata": {},
   "outputs": [
    {
     "data": {
      "image/png": "[encoded data removed]",
      "text/plain": [
       "<matplotlib.figure.Figure at 0x7f6e2e05ce50>"
      ]
     },
     "metadata": {},
     "output_type": "display_data"
    }
   ],
   "source": [
    "def show_figs(im):\n",
    "    fig, ax = plt.subplots(1, 5, figsize= (20, 10))\n",
    "    for i in range(5):\n",
    "        ax[i].imshow(im[i].reshape(28, 28))\n",
    "        ax[i].set_xticks([])\n",
    "        ax[i].set_yticks([])\n",
    "    plt.show();\n",
    "    \n",
    "show_figs(X)"
   ]
  },
  {
   "cell_type": "markdown",
   "metadata": {},
   "source": [
    "### The samples are projected along the first 10 PC axes."
   ]
  },
  {
   "cell_type": "code",
   "execution_count": 41,
   "metadata": {
    "collapsed": true
   },
   "outputs": [],
   "source": [
    "X2 = pca.get_projection(10, X)\n",
    "X2t = pca.get_projection(10, Xt)"
   ]
  },
  {
   "cell_type": "markdown",
   "metadata": {},
   "source": [
    "### The projected data are reprojected back to original feature space. The loss in quality of the image can be easily seen"
   ]
  },
  {
   "cell_type": "code",
   "execution_count": 42,
   "metadata": {},
   "outputs": [
    {
     "data": {
      "image/png": "[encoded data removed]",
      "text/plain": [
       "<matplotlib.figure.Figure at 0x7f6e2f02fc50>"
      ]
     },
     "metadata": {},
     "output_type": "display_data"
    }
   ],
   "source": [
    "X2b = pca.inverse_PCA(X2)\n",
    "show_figs(X2b)"
   ]
  },
  {
   "cell_type": "markdown",
   "metadata": {},
   "source": [
    "### Using the lower dimensional projection of the samples, a GMM model is initialized.\n",
    "This GMM has 2 components."
   ]
  },
  {
   "cell_type": "code",
   "execution_count": 43,
   "metadata": {
    "collapsed": true
   },
   "outputs": [],
   "source": [
    "gmm = GMM(2, X2)"
   ]
  },
  {
   "cell_type": "markdown",
   "metadata": {},
   "source": [
    "### The GMM is trained using the EM Algorithm for 500 iterations maximum.\n",
    "The Log likelihood of the data given parameters are plotted."
   ]
  },
  {
   "cell_type": "code",
   "execution_count": 44,
   "metadata": {},
   "outputs": [
    {
     "name": "stderr",
     "output_type": "stream",
     "text": [
      "/home/krishanu/anaconda2/lib/python2.7/site-packages/ipykernel_launcher.py:51: RuntimeWarning: invalid value encountered in log\n"
     ]
    },
    {
     "name": "stdout",
     "output_type": "stream",
     "text": [
      "Iteration 0, Log Likelihood -69892.0736104\n",
      "Iteration 5, Log Likelihood -69746.1240101\n",
      "Iteration 10, Log Likelihood -69723.3816139\n",
      "Iteration 15, Log Likelihood -69705.9460096\n",
      "Iteration 20, Log Likelihood -69693.7059338\n",
      "Iteration 25, Log Likelihood -69682.2204831\n",
      "Iteration 30, Log Likelihood -69667.4387624\n",
      "Iteration 35, Log Likelihood -69656.0140832\n",
      "Iteration 40, Log Likelihood -69646.1372068\n",
      "Iteration 45, Log Likelihood -69612.7409368\n",
      "Iteration 50, Log Likelihood -69586.0079359\n",
      "Iteration 55, Log Likelihood -69577.0598661\n",
      "Iteration 60, Log Likelihood -69576.0776041\n",
      "Iteration 65, Log Likelihood -69576.0000439\n",
      "Iteration 70, Log Likelihood -69575.9895913\n",
      "Iteration 75, Log Likelihood -69575.988014\n",
      "Iteration 80, Log Likelihood -69575.987769\n",
      "Iteration 85, Log Likelihood -69575.9877306\n",
      "Iteration 90, Log Likelihood -69575.9877246\n",
      "Iteration 95, Log Likelihood -69575.9877236\n"
     ]
    },
    {
     "data": {
      "image/png": "[encoded data removed]",
      "text/plain": [
       "<matplotlib.figure.Figure at 0x7f6e1e327990>"
      ]
     },
     "metadata": {},
     "output_type": "display_data"
    }
   ],
   "source": [
    "gmm.EM(100)"
   ]
  },
  {
   "cell_type": "markdown",
   "metadata": {},
   "source": [
    "### The trained GMM is used to generate new random samples."
   ]
  },
  {
   "cell_type": "code",
   "execution_count": 45,
   "metadata": {
    "collapsed": true
   },
   "outputs": [],
   "source": [
    "Z = gmm.generate_data(10)"
   ]
  },
  {
   "cell_type": "markdown",
   "metadata": {},
   "source": [
    "### The generated samples are in a lower dimensional space. They are projected back to the original feature space using inverse PCA."
   ]
  },
  {
   "cell_type": "code",
   "execution_count": 46,
   "metadata": {
    "collapsed": true
   },
   "outputs": [],
   "source": [
    "Zn = pca.inverse_PCA(Z)"
   ]
  },
  {
   "cell_type": "markdown",
   "metadata": {},
   "source": [
    "### Some samples are plotted.\n",
    "One can easily see that the images look similar to the number 8 but certain fine features are not there. This is due to the loss of features/information because of PCA."
   ]
  },
  {
   "cell_type": "code",
   "execution_count": 47,
   "metadata": {},
   "outputs": [
    {
     "data": {
      "image/png": "[encoded data removed]",
      "text/plain": [
       "<matplotlib.figure.Figure at 0x7f6e1e1c9cd0>"
      ]
     },
     "metadata": {},
     "output_type": "display_data"
    }
   ],
   "source": [
    "show_figs(Zn)"
   ]
  },
  {
   "cell_type": "markdown",
   "metadata": {},
   "source": [
    "### GMM Classifier"
   ]
  },
  {
   "cell_type": "code",
   "execution_count": 66,
   "metadata": {
    "collapsed": true
   },
   "outputs": [],
   "source": [
    "class GMM_classifier:\n",
    "    def __init__(self, data, labels, num_components = 5, reduce_dim = False, num_iter = 100, verbose = True):\n",
    "        self.gmms = {}\n",
    "#         print(data.shape)\n",
    "        self.dim = data.shape[1]\n",
    "        self.reduce_dim = False\n",
    "#         ndata = {}\n",
    "        if verbose:\n",
    "            print(\"Training Models. Please Wait.\")\n",
    "        if reduce_dim:\n",
    "            o_data = data.copy()\n",
    "            self.reduce_dim = True\n",
    "            self.pca = PCA(data)\n",
    "            data = self.pca.get_projection(reduce_dim, data)\n",
    "            self.dim = reduce_dim\n",
    "\n",
    "        for label in list(set(list(labels))):\n",
    "#             print(data.shape)\n",
    "#             print(labels.shape)\n",
    "#             print(data[labels == label])\n",
    "            label_data = data[labels == label]\n",
    "#             print(label_data.shape)\n",
    "            self.gmms[label] = GMM(num_components, label_data)\n",
    "            self.gmms[label].EM(num_iter, False, False)\n",
    "            if verbose:\n",
    "                print(\"Class {} Modelled\".format(label))\n",
    "        self.training_accuracy = np.mean(self.predict(o_data) == labels)\n",
    "    \n",
    "    def predict(self, data):\n",
    "        if self.reduce_dim:\n",
    "            data = self.pca.get_projection(self.dim, data)\n",
    "#         print(len(self.gmms))\n",
    "#         print(data.shape)\n",
    "        probs = np.zeros((len(self.gmms), data.shape[0]))\n",
    "        for key, gmm in self.gmms.items():\n",
    "            probs[key] = gmm.calculate_probability(data)\n",
    "        probs = probs / probs.sum(0)\n",
    "        return np.argmax(probs / probs.sum(axis = 0), axis = 0)\n",
    "    \n",
    "    def calculate_training_accuracy(self):\n",
    "        return self.training_accuracy\n",
    "                                         \n",
    "                                         \n",
    "    def calculate_testing_accuracy(self, X, y):\n",
    "        return np.mean(self.predict(X) == y)"
   ]
  },
  {
   "cell_type": "markdown",
   "metadata": {},
   "source": [
    "### Preparing Training and Test Data\n",
    "Only 1000 images are used for training to save time"
   ]
  },
  {
   "cell_type": "code",
   "execution_count": 49,
   "metadata": {},
   "outputs": [],
   "source": [
    "X_train = np.array(df)[:1000]\n",
    "X_test = np.array(df)[1000:1200]\n",
    "y_train = np.array(df.index)[:1000].astype(np.int8).reshape(-1)\n",
    "y_test = np.array(df.index)[1000:1200].astype(np.int8).reshape(-1)"
   ]
  },
  {
   "cell_type": "markdown",
   "metadata": {},
   "source": [
    "### Training the Classifier \n",
    "We will train 3 classifiers with different values of number of components and PCA dimension reduction.\n",
    "\n",
    "In the first classifier, every class conditional model will have 3 components and the dimension of the data will be reduced to 5 components\n",
    "\n",
    "\n",
    "In the first classifier, every class conditional model will have 3 components and the dimension of the data will be reduced to 10 components\n",
    "\n",
    "\n",
    "In the first classifier, every class conditional model will have 5 components and the dimension of the data will be reduced to 10 components"
   ]
  },
  {
   "cell_type": "code",
   "execution_count": 50,
   "metadata": {
    "scrolled": false
   },
   "outputs": [
    {
     "name": "stdout",
     "output_type": "stream",
     "text": [
      "Training Models. Please Wait.\n"
     ]
    },
    {
     "name": "stderr",
     "output_type": "stream",
     "text": [
      "/home/krishanu/anaconda2/lib/python2.7/site-packages/ipykernel_launcher.py:51: RuntimeWarning: invalid value encountered in log\n"
     ]
    },
    {
     "name": "stdout",
     "output_type": "stream",
     "text": [
      "Class 0 Modelled\n",
      "Class 1 Modelled\n"
     ]
    },
    {
     "name": "stderr",
     "output_type": "stream",
     "text": [
      "/home/krishanu/anaconda2/lib/python2.7/site-packages/ipykernel_launcher.py:51: RuntimeWarning: divide by zero encountered in log\n"
     ]
    },
    {
     "name": "stdout",
     "output_type": "stream",
     "text": [
      "Class 2 Modelled\n",
      "Class 3 Modelled\n",
      "Class 4 Modelled\n",
      "Class 5 Modelled\n",
      "Class 6 Modelled\n",
      "Class 7 Modelled\n",
      "Class 8 Modelled\n",
      "Class 9 Modelled\n",
      "Training Accuracy 0.809\n",
      "Test Accuracy 0.71\n"
     ]
    }
   ],
   "source": [
    "classifier1 = GMM_classifier(X_train, y_train, 3, 5, 100)\n",
    "print(\"Training Accuracy {}\".format(classifier1.calculate_training_accuracy()))\n",
    "print(\"Test Accuracy {}\".format(classifier1.calculate_testing_accuracy(X_test, y_test)))"
   ]
  },
  {
   "cell_type": "code",
   "execution_count": 51,
   "metadata": {},
   "outputs": [
    {
     "name": "stdout",
     "output_type": "stream",
     "text": [
      "Training Models. Please Wait.\n"
     ]
    },
    {
     "name": "stderr",
     "output_type": "stream",
     "text": [
      "/home/krishanu/anaconda2/lib/python2.7/site-packages/ipykernel_launcher.py:51: RuntimeWarning: invalid value encountered in log\n",
      "/home/krishanu/anaconda2/lib/python2.7/site-packages/ipykernel_launcher.py:51: RuntimeWarning: divide by zero encountered in log\n"
     ]
    },
    {
     "name": "stdout",
     "output_type": "stream",
     "text": [
      "Class 0 Modelled\n",
      "Class 1 Modelled\n",
      "Class 2 Modelled\n",
      "Class 3 Modelled\n",
      "Class 4 Modelled\n",
      "Class 5 Modelled\n",
      "Class 6 Modelled\n",
      "Class 7 Modelled\n",
      "Class 8 Modelled\n",
      "Class 9 Modelled\n",
      "Training Accuracy 0.972\n",
      "Test Accuracy 0.805\n"
     ]
    }
   ],
   "source": [
    "classifier2 = GMM_classifier(X_train, y_train, 3, 10, 100)\n",
    "print(\"Training Accuracy {}\".format(classifier2.calculate_training_accuracy()))\n",
    "print(\"Test Accuracy {}\".format(classifier2.calculate_testing_accuracy(X_test, y_test)))"
   ]
  },
  {
   "cell_type": "code",
   "execution_count": 54,
   "metadata": {},
   "outputs": [
    {
     "name": "stdout",
     "output_type": "stream",
     "text": [
      "Training Models. Please Wait.\n"
     ]
    },
    {
     "name": "stderr",
     "output_type": "stream",
     "text": [
      "/home/krishanu/anaconda2/lib/python2.7/site-packages/ipykernel_launcher.py:51: RuntimeWarning: invalid value encountered in log\n",
      "/home/krishanu/anaconda2/lib/python2.7/site-packages/ipykernel_launcher.py:51: RuntimeWarning: divide by zero encountered in log\n",
      "/home/krishanu/anaconda2/lib/python2.7/site-packages/ipykernel_launcher.py:86: RuntimeWarning: invalid value encountered in power\n",
      "/home/krishanu/anaconda2/lib/python2.7/site-packages/ipykernel_launcher.py:86: RuntimeWarning: overflow encountered in exp\n"
     ]
    },
    {
     "name": "stdout",
     "output_type": "stream",
     "text": [
      "Class 0 Modelled\n",
      "Class 1 Modelled\n",
      "Class 2 Modelled\n",
      "Class 3 Modelled\n"
     ]
    },
    {
     "name": "stderr",
     "output_type": "stream",
     "text": [
      "/home/krishanu/anaconda2/lib/python2.7/site-packages/ipykernel_launcher.py:68: RuntimeWarning: invalid value encountered in divide\n"
     ]
    },
    {
     "name": "stdout",
     "output_type": "stream",
     "text": [
      "Class 4 Modelled\n",
      "Class 5 Modelled\n",
      "Class 6 Modelled\n",
      "Class 7 Modelled\n",
      "Class 8 Modelled\n",
      "Class 9 Modelled\n",
      "Training Accuracy 0.972\n",
      "Test Accuracy 0.805\n"
     ]
    }
   ],
   "source": [
    "classifier3 = GMM_classifier(X_train, y_train, 5, 20, 100)\n",
    "print(\"Training Accuracy {}\".format(classifier2.calculate_training_accuracy()))\n",
    "print(\"Test Accuracy {}\".format(classifier2.calculate_testing_accuracy(X_test, y_test)))"
   ]
  },
  {
   "cell_type": "code",
   "execution_count": 69,
   "metadata": {},
   "outputs": [],
   "source": [
    "# comp_accuracy_train = []\n",
    "# comp_accuracy_test = []\n",
    "\n",
    "# pc_accuracy_train = []\n",
    "# pc_accuracy_test = []\n",
    "\n",
    "# for i in range(2, 10):\n",
    "#     for j in range(2, 20, 2):\n",
    "#         print(\"GMM Components {}, Principal Components {}\".format(i, j))\n",
    "#         classifiern = GMM_classifier(X_train, y_train, i, j, 100, verbose=False)\n",
    "#         comp_accuracy_train.append(np.array([i, classifiern.calculate_training_accuracy()]))\n",
    "#         comp_accuracy_test.append(np.array([i, classifiern.calculate_testing_accuracy(X_test, y_test)]))\n",
    "        \n",
    "#         pc_accuracy_train.append(np.array([j, classifiern.calculate_training_accuracy()]))\n",
    "#         pc_accuracy_test.append(np.array([j, classifiern.calculate_testing_accuracy(X_test, y_test)]))\n",
    "        \n",
    "# comp_accuracy_train = np.array(comp_accuracy_train)\n",
    "# comp_accuracy_test = np.array(comp_accuracy_test)\n",
    "\n",
    "# pc_accuracy_train = np.array(pc_accuracy_train)\n",
    "# pc_accuracy_test = np.array(pc_accuracy_test)"
   ]
  },
  {
   "cell_type": "code",
   "execution_count": 70,
   "metadata": {},
   "outputs": [],
   "source": [
    "# mean_comp_acc = {}\n",
    "# for i in list(set(comp_accuracy_test[:, 0])):\n",
    "#     mean_comp_acc[i] = np.mean(comp_accuracy_test[comp_accuracy_test[:, 0] == i][:, 1])\n",
    "# plt.plot(mean_comp_acc.keys(), mean_comp_acc.values())\n",
    "# plt.xlabel(\"Number of components in GMM\")\n",
    "# plt.ylabel(\"Accuracy\")\n",
    "# plt.show()"
   ]
  },
  {
   "cell_type": "code",
   "execution_count": null,
   "metadata": {
    "collapsed": true
   },
   "outputs": [],
   "source": []
  }
 ],
 "metadata": {
  "kernelspec": {
   "display_name": "Python 2",
   "language": "python",
   "name": "python2"
  },
  "language_info": {
   "codemirror_mode": {
    "name": "ipython",
    "version": 2
   },
   "file_extension": ".py",
   "mimetype": "text/x-python",
   "name": "python",
   "nbconvert_exporter": "python",
   "pygments_lexer": "ipython2",
   "version": "2.7.13"
  }
 },
 "nbformat": 4,
 "nbformat_minor": 2
}
