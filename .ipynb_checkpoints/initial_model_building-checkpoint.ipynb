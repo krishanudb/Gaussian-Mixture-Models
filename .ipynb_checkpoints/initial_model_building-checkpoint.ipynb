{
 "cells": [
  {
   "cell_type": "code",
   "execution_count": 1,
   "metadata": {
    "collapsed": true
   },
   "outputs": [],
   "source": [
    "import sys\n",
    "import numpy as np\n",
    "import matplotlib.pyplot as plt"
   ]
  },
  {
   "cell_type": "code",
   "execution_count": 382,
   "metadata": {
    "collapsed": true
   },
   "outputs": [],
   "source": [
    "import numpy as np\n",
    "\n",
    "class GMM():\n",
    "    def __init__(self, n_components, data):\n",
    "        self.num_data = data.shape[0]\n",
    "        self.dimension = data.shape[1]\n",
    "        self.data = data\n",
    "        self.components = n_components\n",
    "        self.means = self.initialize_means()\n",
    "        self.covariances = self.initialize_variances()\n",
    "        self.lambdas = self.initialize_lambdas()\n",
    "            \n",
    "    \n",
    "    def initialize_means(self): \n",
    "        random_choice = np.random.choice(self.num_data, self.components, replace = False)\n",
    "        means_ = self.data[random_choice]\n",
    "        return means_\n",
    "        \n",
    "    def initialize_variances(self):\n",
    "        covariances_ = np.zeros((self.components, self.dimension, self.dimension))\n",
    "        for i in range(self.components):\n",
    "            covariances_[i] = np.cov(self.data, rowvar = False)\n",
    "        return covariances_    \n",
    "    \n",
    "    def initialize_lambdas(self):\n",
    "        return np.ones([self.components]) / float(self.components)\n",
    "        \n",
    "        \n",
    "    def initialize_gammas(self):\n",
    "        \"\"\"Initializes gammas to random values maintaining their sum = 1 for each component\"\"\"\n",
    "        gammas_ = np.random.rand(self.components, self.num_data)\n",
    "        gammas_ = gammas_ / gammas_.sum(0)\n",
    "        return gammas_\n",
    "        \n",
    "    def calculate_means(self):\n",
    "        \"\"\"Calculates the means based on the current values of gammas\"\"\"\n",
    "#         print(self.num_data, self.components, self.dimension)\n",
    "        means_ = np.zeros((self.components, self.dimension))\n",
    "        for i in range(self.components):\n",
    "            for j in range(self.num_data):\n",
    "                means_[i] += self.gammas[i][j] * self.data[j] / self.gammas[i].sum()\n",
    "        return means_\n",
    "        \n",
    "    def calculate_variances(self):\n",
    "        \"\"\"Calculates the covariances based on the current values of gammas\"\"\"\n",
    "\n",
    "        covariances_ = np.zeros((self.components, self.dimension, self.dimension))\n",
    "        for i in range(self.components):\n",
    "            for j in range(self.num_data):\n",
    "                covariances_[i] += self.gammas[i][j] * np.dot((self.data[j] - self.means[i]).reshape(-1, 1), (self.data[j] - self.means[i]).reshape(-1, 1).T) / self.gammas[i].sum()\n",
    "                if np.log(np.linalg.det(covariances_[i])) < -800:\n",
    "#                     print(np.power(np.e, -20))\n",
    "#                     print(\"Entering {}\".format(np.log(np.linalg.det(covariances_[i]))))\n",
    "                    covariances_[i] = np.cov(self.data, rowvar = False) / 100.\n",
    "                    self.means[i] = self.data[np.random.choice(self.num_data)]\n",
    "        return covariances_\n",
    "    \n",
    "    def calculate_lambdas(self):\n",
    "        \"\"\"Updates lambdas based on the values of gamma\"\"\"\n",
    "        return self.gammas.sum(1)/self.gammas.sum()\n",
    "    \n",
    "    def calculate_gammas(self):\n",
    "        \"\"\"Updates gammas based on the values of the means, covariances and lambdas\"\"\"\n",
    "        gammas_ = np.zeros((self.components, self.num_data))\n",
    "        for i in range(self.components):\n",
    "            for j in range(self.num_data):\n",
    "                gammas_[i, j] = self.lambdas[i] * self.gaussian_probability(self.data[j], self.means[i], self.covariances[i])\n",
    "        gammas_ = gammas_ / gammas_.sum(0)\n",
    "        return gammas_\n",
    "    \n",
    "    def calculate_likelihood(self):\n",
    "        \"\"\"Calculates the likelihood of data given parameters. We need to stop EM when likelihood saturates\"\"\"\n",
    "        prb = np.zeros((self.num_data))\n",
    "        for j in range(self.num_data):\n",
    "            for i in range(self.components):\n",
    "                prb[j] += self.lambdas[i] * self.gaussian_probability(self.data[j], self.means[i], self.covariances[i])\n",
    "        likelihood_ = np.sum(np.log(prb))\n",
    "#         print(\"Likelihood {}\".format(likelihood_))\n",
    "        return likelihood_\n",
    "    \n",
    "    def gaussian_probability(self, x_, mu_, sigma_):\n",
    "        \"\"\"Given the datapoint, mean for the component and the variance matrix of the component, calculates the probability\"\"\"\n",
    "        x_ = x_.reshape(-1, 1)\n",
    "        mu_ = mu_.reshape(-1, 1)\n",
    "\n",
    "        prob_ = (1. / (np.power(2 * np.pi, self.dimension / 2.) * np.power(np.linalg.det(sigma_), 0.5))) * np.exp(- 0.5 * np.dot((x_ - mu_).T, np.dot(np.linalg.inv(sigma_), (x_ - mu_))))\n",
    "        prob_ = float(prob_.reshape(1))\n",
    "#         print(prob_)\n",
    "        return prob_\n",
    "\n",
    "    def generate_data(self, n_data):\n",
    "        \"\"\"creates a list of data points\"\"\"    \n",
    "    \n",
    "        data_ = np.zeros((n_data, self.dimension))\n",
    "        for i in range(n_data):\n",
    "            # pick a cluster id and create data from this cluster\n",
    "            k = np.random.choice(self.components, size = 1, p = self.lambdas)[0]\n",
    "            x = np.random.multivariate_normal(self.means[k], self.covariances[k])\n",
    "            data_[i] = x\n",
    "\n",
    "        return data_\n",
    "\n",
    "\n",
    "    def EM(self, max_iter, show_plot=True):\n",
    "        likelihood_list = []\n",
    "        converged = False\n",
    "        optimal_params = {}\n",
    "        for i in range(max_iter):\n",
    "            self.gammas = self.calculate_gammas() # E STEP\n",
    "            self.means = self.calculate_means() # M STEP\n",
    "            self.covariances = self.calculate_variances() # M STEP\n",
    "            self.lambdas = self.calculate_lambdas() # M STEP\n",
    "            likelihood_ = self.calculate_likelihood() # CALCULATE LIKELIHOOD\n",
    "            if i > 1:\n",
    "                if likelihood_ > max(likelihood_list): \n",
    "                    # SET ALL VALUES TO THE PARAMETER VALUES WHICH OBTAINED HIGHEST LIKELIHOOD\n",
    "                    optimal_params[\"means\"] = self.means.copy()\n",
    "                    optimal_params[\"covariances\"] = self.covariances.copy()\n",
    "                    optimal_params[\"gammas\"] = self.gammas.copy()\n",
    "                    optimal_params[\"lambdas\"] = self.lambdas.copy()\n",
    "            likelihood_list.append(likelihood_)\n",
    "            if i % (max_iter / 20) == 0:\n",
    "                print(\"Iteration {}, Log Likelihood {}\".format(i, likelihood_list[-1]))\n",
    "            if len(likelihood_list) > 50:\n",
    "                if likelihood_list[-25] >= likelihood_list[-1]:\n",
    "                    print(\"Converged\")\n",
    "                    converged = True\n",
    "            if converged:\n",
    "                break\n",
    "        self.means = optimal_params[\"means\"]\n",
    "        self.covariances = optimal_params[\"covariances\"]\n",
    "        self.gammas = optimal_params[\"gammas\"]\n",
    "        self.lambdas = optimal_params[\"lambdas\"]\n",
    "        if show_plot:\n",
    "            self.show_likelihood_plot()\n",
    "        return likelihood_list\n",
    "    \n",
    "    def show_likelihood_plot(self):\n",
    "        plt.figure(figsize=(10, 5))\n",
    "        plt.plot(self.likelihood_list)\n",
    "        plt.ylabel(\"Log Likelihood of Data given Parameters\")\n",
    "        plt.xlabel(\"Iterations\")\n",
    "        plt.show()"
   ]
  },
  {
   "cell_type": "markdown",
   "metadata": {},
   "source": [
    "### Data Preparation and Initialization"
   ]
  },
  {
   "cell_type": "code",
   "execution_count": 383,
   "metadata": {},
   "outputs": [
    {
     "data": {
      "image/png": "[encoded data removed]",
      "text/plain": [
       "<matplotlib.figure.Figure at 0x7fcb7ea56210>"
      ]
     },
     "metadata": {},
     "output_type": "display_data"
    }
   ],
   "source": [
    "def generate_data(n_data, means, covariances, weights):\n",
    "    \"\"\"creates a list of data points\"\"\"\n",
    "    n_clusters, n_features = means.shape\n",
    "    \n",
    "    data = np.zeros((n_data, n_features))\n",
    "    for i in range(n_data):\n",
    "        # pick a cluster id and create data from this cluster\n",
    "        k = np.random.choice(n_clusters, size = 1, p = weights)[0]\n",
    "        x = np.random.multivariate_normal(means[k], covariances[k])\n",
    "        data[i] = x\n",
    "   \n",
    "    return data\n",
    "\n",
    "\n",
    "# Model parameters, including the mean\n",
    "# covariance matrix and the weights for each cluster\n",
    "init_means = np.array([\n",
    "    [30, 50],\n",
    "    [-15, 10],\n",
    "    [70, 35],\n",
    "    [70, 325],\n",
    "    [170, 5],\n",
    "    [370, 235],\n",
    "    [170, 135],\n",
    "    [-70, -35],\n",
    "])\n",
    "\n",
    "init_covariances = np.array([\n",
    "    [[628.5, 0.], [0, 532.5]],\n",
    "    [[755.92, 6.38], [6.38, 502.91]],\n",
    "    [[505.5, 250.2], [250.2, 555.5]],\n",
    "    [[2575.92, 536.38], [536.38, 2529.1]],\n",
    "    [[5275.92, 455.38], [455.38, 3025.91]],\n",
    "    [[3715.92, 61.38], [61.38, 101.91]],\n",
    "    [[152.92, 161.38], [161.38, 1021.91]],\n",
    "    [[315.92, 61.38], [61.38, 121.91]]\n",
    "])\n",
    "\n",
    "init_weights = [.1, .1, .25, .1, .2, .125, .12, .005]\n",
    "\n",
    "# generate data\n",
    "# np.random.seed(4)\n",
    "X = generate_data(500, init_means, init_covariances, init_weights)\n",
    "\n",
    "plt.plot(X[:, 0], X[:, 1], 'ko')\n",
    "plt.tight_layout()\n",
    "plt.show()"
   ]
  },
  {
   "cell_type": "markdown",
   "metadata": {},
   "source": [
    "### Initializing Model on the Data"
   ]
  },
  {
   "cell_type": "code",
   "execution_count": 384,
   "metadata": {
    "collapsed": true
   },
   "outputs": [],
   "source": [
    "mod = GMM(8, X)"
   ]
  },
  {
   "cell_type": "markdown",
   "metadata": {},
   "source": [
    "### Initial Parameters of the model"
   ]
  },
  {
   "cell_type": "code",
   "execution_count": 385,
   "metadata": {},
   "outputs": [
    {
     "data": {
      "text/plain": [
       "array([[[ 14092.51147091,   5546.96591992],\n",
       "        [  5546.96591992,  12003.95562397]],\n",
       "\n",
       "       [[ 14092.51147091,   5546.96591992],\n",
       "        [  5546.96591992,  12003.95562397]],\n",
       "\n",
       "       [[ 14092.51147091,   5546.96591992],\n",
       "        [  5546.96591992,  12003.95562397]],\n",
       "\n",
       "       [[ 14092.51147091,   5546.96591992],\n",
       "        [  5546.96591992,  12003.95562397]],\n",
       "\n",
       "       [[ 14092.51147091,   5546.96591992],\n",
       "        [  5546.96591992,  12003.95562397]],\n",
       "\n",
       "       [[ 14092.51147091,   5546.96591992],\n",
       "        [  5546.96591992,  12003.95562397]],\n",
       "\n",
       "       [[ 14092.51147091,   5546.96591992],\n",
       "        [  5546.96591992,  12003.95562397]],\n",
       "\n",
       "       [[ 14092.51147091,   5546.96591992],\n",
       "        [  5546.96591992,  12003.95562397]]])"
      ]
     },
     "execution_count": 385,
     "metadata": {},
     "output_type": "execute_result"
    }
   ],
   "source": [
    "mod.covariances"
   ]
  },
  {
   "cell_type": "code",
   "execution_count": 386,
   "metadata": {},
   "outputs": [
    {
     "data": {
      "text/plain": [
       "array([[ 363.94122657,  254.00982241],\n",
       "       [ 207.68426904,   71.00778565],\n",
       "       [ 108.34059825,  -22.25651883],\n",
       "       [ 315.52220214,  248.49302255],\n",
       "       [ 146.66463003,   -7.96114372],\n",
       "       [ -70.18507873,  -26.95716767],\n",
       "       [  14.03350172,  -16.50932491],\n",
       "       [  77.94215578,  299.29971179]])"
      ]
     },
     "execution_count": 386,
     "metadata": {},
     "output_type": "execute_result"
    }
   ],
   "source": [
    "mod.means"
   ]
  },
  {
   "cell_type": "code",
   "execution_count": 387,
   "metadata": {},
   "outputs": [
    {
     "data": {
      "text/plain": [
       "array([ 0.125,  0.125,  0.125,  0.125,  0.125,  0.125,  0.125,  0.125])"
      ]
     },
     "execution_count": 387,
     "metadata": {},
     "output_type": "execute_result"
    }
   ],
   "source": [
    "mod.lambdas"
   ]
  },
  {
   "cell_type": "markdown",
   "metadata": {},
   "source": [
    "### Running EM on the GMM\n",
    "\n",
    "Log Likelihoods in every iteration are printed"
   ]
  },
  {
   "cell_type": "code",
   "execution_count": 388,
   "metadata": {
    "scrolled": true
   },
   "outputs": [
    {
     "name": "stderr",
     "output_type": "stream",
     "text": [
      "/home/krishanu/anaconda2/lib/python2.7/site-packages/ipykernel_launcher.py:51: RuntimeWarning: invalid value encountered in log\n"
     ]
    },
    {
     "name": "stdout",
     "output_type": "stream",
     "text": [
      "Iteration 0, Log Likelihood -5835.97808923\n",
      "Iteration 25, Log Likelihood -5541.16943594\n",
      "Iteration 50, Log Likelihood -5531.84869621\n",
      "Iteration 75, Log Likelihood -5528.70184802\n",
      "Iteration 100, Log Likelihood -5527.99846888\n",
      "Converged\n"
     ]
    },
    {
     "name": "stderr",
     "output_type": "stream",
     "text": [
      "/home/krishanu/anaconda2/lib/python2.7/site-packages/ipykernel_launcher.py:51: RuntimeWarning: divide by zero encountered in log\n"
     ]
    },
    {
     "ename": "NameError",
     "evalue": "global name 'show_plot' is not defined",
     "output_type": "error",
     "traceback": [
      "\u001b[0;31m---------------------------------------------------------------------------\u001b[0m",
      "\u001b[0;31mNameError\u001b[0m                                 Traceback (most recent call last)",
      "\u001b[0;32m<ipython-input-388-bfc85b3cdf43>\u001b[0m in \u001b[0;36m<module>\u001b[0;34m()\u001b[0m\n\u001b[0;32m----> 1\u001b[0;31m \u001b[0mlikelihoods\u001b[0m \u001b[0;34m=\u001b[0m \u001b[0mmod\u001b[0m\u001b[0;34m.\u001b[0m\u001b[0mEM\u001b[0m\u001b[0;34m(\u001b[0m\u001b[0;36m500\u001b[0m\u001b[0;34m)\u001b[0m\u001b[0;34m\u001b[0m\u001b[0m\n\u001b[0m",
      "\u001b[0;32m<ipython-input-382-d7924a265174>\u001b[0m in \u001b[0;36mEM\u001b[0;34m(self, max_iter)\u001b[0m\n\u001b[1;32m    132\u001b[0m         \u001b[0mself\u001b[0m\u001b[0;34m.\u001b[0m\u001b[0mgammas\u001b[0m \u001b[0;34m=\u001b[0m \u001b[0moptimal_params\u001b[0m\u001b[0;34m[\u001b[0m\u001b[0;34m\"gammas\"\u001b[0m\u001b[0;34m]\u001b[0m\u001b[0;34m\u001b[0m\u001b[0m\n\u001b[1;32m    133\u001b[0m         \u001b[0mself\u001b[0m\u001b[0;34m.\u001b[0m\u001b[0mlambdas\u001b[0m \u001b[0;34m=\u001b[0m \u001b[0moptimal_params\u001b[0m\u001b[0;34m[\u001b[0m\u001b[0;34m\"lambdas\"\u001b[0m\u001b[0;34m]\u001b[0m\u001b[0;34m\u001b[0m\u001b[0m\n\u001b[0;32m--> 134\u001b[0;31m         \u001b[0;32mif\u001b[0m \u001b[0mshow_plot\u001b[0m\u001b[0;34m:\u001b[0m\u001b[0;34m\u001b[0m\u001b[0m\n\u001b[0m\u001b[1;32m    135\u001b[0m             \u001b[0mself\u001b[0m\u001b[0;34m.\u001b[0m\u001b[0mshow_likelihood_plot\u001b[0m\u001b[0;34m(\u001b[0m\u001b[0;34m)\u001b[0m\u001b[0;34m\u001b[0m\u001b[0m\n\u001b[1;32m    136\u001b[0m         \u001b[0;32mreturn\u001b[0m \u001b[0mlikelihood_list\u001b[0m\u001b[0;34m\u001b[0m\u001b[0m\n",
      "\u001b[0;31mNameError\u001b[0m: global name 'show_plot' is not defined"
     ]
    }
   ],
   "source": [
    "likelihoods = mod.EM(500)"
   ]
  },
  {
   "cell_type": "code",
   "execution_count": 292,
   "metadata": {},
   "outputs": [
    {
     "data": {
      "image/png": "[encoded data removed]",
      "text/plain": [
       "<matplotlib.figure.Figure at 0x7fcb7e53c9d0>"
      ]
     },
     "metadata": {},
     "output_type": "display_data"
    }
   ],
   "source": [
    "plt.figure(figsize=(10, 5))\n",
    "plt.plot(likelihoods)\n",
    "plt.ylabel(\"Log Likelihood of Data given Parameters\")\n",
    "plt.xlabel(\"Iterations\")\n",
    "plt.show()"
   ]
  },
  {
   "cell_type": "markdown",
   "metadata": {},
   "source": [
    "### Model parameters after EM"
   ]
  },
  {
   "cell_type": "code",
   "execution_count": 222,
   "metadata": {},
   "outputs": [
    {
     "data": {
      "text/plain": [
       "array([[[  6.05358813e+02,   1.85149708e+02],\n",
       "        [  1.85149708e+02,   6.83145582e+02]],\n",
       "\n",
       "       [[  4.15618457e+02,   2.52989890e+02],\n",
       "        [  2.52989890e+02,   2.23442847e+03]],\n",
       "\n",
       "       [[  2.10405336e+04,  -1.21051212e+03],\n",
       "        [ -1.21051212e+03,   3.66978632e+03]],\n",
       "\n",
       "       [[  5.36219384e+02,   5.61307611e+02],\n",
       "        [  5.61307611e+02,   1.32909640e+03]],\n",
       "\n",
       "       [[  3.38237662e+03,   3.82974081e+00],\n",
       "        [  3.82974081e+00,   9.85490623e+01]],\n",
       "\n",
       "       [[  2.13593869e+02,   2.19716585e+02],\n",
       "        [  2.19716585e+02,   1.07699790e+03]],\n",
       "\n",
       "       [[  4.50526241e+03,   3.21647184e+02],\n",
       "        [  3.21647184e+02,   4.55264657e+03]],\n",
       "\n",
       "       [[  3.68781324e+03,   6.63819603e+02],\n",
       "        [  6.63819603e+02,   2.35242491e+03]]])"
      ]
     },
     "execution_count": 222,
     "metadata": {},
     "output_type": "execute_result"
    }
   ],
   "source": [
    "mod.covariances"
   ]
  },
  {
   "cell_type": "code",
   "execution_count": 223,
   "metadata": {},
   "outputs": [
    {
     "data": {
      "text/plain": [
       "array([ 0.32786412,  0.0709556 ,  0.0232727 ,  0.16832561,  0.10393966,\n",
       "        0.1029722 ,  0.11416294,  0.08850717])"
      ]
     },
     "execution_count": 223,
     "metadata": {},
     "output_type": "execute_result"
    }
   ],
   "source": [
    "mod.lambdas"
   ]
  },
  {
   "cell_type": "code",
   "execution_count": 224,
   "metadata": {},
   "outputs": [
    {
     "data": {
      "text/plain": [
       "array([[  69.1860107 ,   37.46180581],\n",
       "       [ 182.35748787,  -19.19266641],\n",
       "       [  61.73718048,   10.68051703],\n",
       "       [  -7.08751818,   22.08350591],\n",
       "       [ 358.73244646,  234.83088713],\n",
       "       [ 170.6291808 ,  127.39655427],\n",
       "       [ 175.19959623,   20.65768847],\n",
       "       [  76.87325012,  320.42221302]])"
      ]
     },
     "execution_count": 224,
     "metadata": {},
     "output_type": "execute_result"
    }
   ],
   "source": [
    "mod.means"
   ]
  },
  {
   "cell_type": "code",
   "execution_count": 227,
   "metadata": {
    "collapsed": true
   },
   "outputs": [],
   "source": [
    "gen_data = mod.generate_data(100)"
   ]
  },
  {
   "cell_type": "code",
   "execution_count": 228,
   "metadata": {},
   "outputs": [
    {
     "data": {
      "image/png": "[encoded data removed]",
      "text/plain": [
       "<matplotlib.figure.Figure at 0x7fcb7e75bf50>"
      ]
     },
     "metadata": {},
     "output_type": "display_data"
    }
   ],
   "source": [
    "plt.scatter(gen_data[:, 0], gen_data[:, 1])\n",
    "plt.show()"
   ]
  },
  {
   "cell_type": "code",
   "execution_count": 402,
   "metadata": {
    "collapsed": true
   },
   "outputs": [],
   "source": [
    "class PCA:\n",
    "    def __init__(self, data):\n",
    "        self.num_data = data.shape[0]\n",
    "        self.dimension = data.shape[1]\n",
    "        self.data = data\n",
    "        self.covariance = self.compute_covariance(data)\n",
    "        self.principal_components, self.principal_axes = self.compute_pca()\n",
    "    \n",
    "    def compute_covariance(self, X):\n",
    "        return np.cov(X.T)\n",
    "    \n",
    "    def compute_pca(self):\n",
    "        eigen_values, eigen_vectors = np.linalg.eig(self.covariance)\n",
    "        eigen = []\n",
    "        for i in range(len(eigen_values)):\n",
    "            eigen.append((eigen_values[i], eigen_vectors[:, i]))\n",
    "        eigen.sort(key=lambda x: x[0], reverse = True)\n",
    "        principal_axes = np.array([x[1] for x in eigen])\n",
    "        principal_comps = np.array([x[0] for x in eigen])\n",
    "        return principal_comps, principal_axes\n",
    "    \n",
    "    def get_principal_axes(self, num):\n",
    "        return self.principal_axes[:, :num]\n",
    "    \n",
    "    def get_projection(self, num, X):\n",
    "        n_axes = self.get_principal_axes(num)\n",
    "        projections = np.dot(X, n_axes)\n",
    "        return projections\n",
    "    \n",
    "    def inverse_PCA(self, X):\n",
    "        num = X.shape[1]\n",
    "        n_axes = self.get_principal_axes(num)\n",
    "        original_projections = np.dot(X, n_axes.T)\n",
    "        return original_projections"
   ]
  },
  {
   "cell_type": "code",
   "execution_count": 403,
   "metadata": {
    "collapsed": true
   },
   "outputs": [],
   "source": [
    "arr = np.random.rand(1000, 5) * 100\n",
    "p = PCA(arr)"
   ]
  },
  {
   "cell_type": "code",
   "execution_count": 404,
   "metadata": {},
   "outputs": [
    {
     "data": {
      "text/plain": [
       "array([ 879.58469739,  857.00696777,  812.21565133,  810.05222243,\n",
       "        769.92186976])"
      ]
     },
     "execution_count": 404,
     "metadata": {},
     "output_type": "execute_result"
    }
   ],
   "source": [
    "p.principal_components"
   ]
  },
  {
   "cell_type": "code",
   "execution_count": 401,
   "metadata": {},
   "outputs": [
    {
     "data": {
      "text/plain": [
       "array([[ 0.75600729,  0.47438253, -0.12045766, -0.05275383, -0.43141765],\n",
       "       [-0.58914099,  0.21241474, -0.30620694, -0.19773111, -0.68915353],\n",
       "       [ 0.21643583, -0.46679854, -0.69712604, -0.48465814,  0.11990176],\n",
       "       [-0.06100661,  0.29128771,  0.40512037, -0.84029016,  0.20302607],\n",
       "       [ 0.17549816, -0.6535226 ,  0.49154861, -0.13091358, -0.53230649]])"
      ]
     },
     "execution_count": 401,
     "metadata": {},
     "output_type": "execute_result"
    }
   ],
   "source": [
    "p.principal_axes"
   ]
  },
  {
   "cell_type": "code",
   "execution_count": 397,
   "metadata": {},
   "outputs": [
    {
     "data": {
      "text/plain": [
       "array([[ 24.03046294,  -3.00255641],\n",
       "       [ -5.83781605, -12.63112583],\n",
       "       [ 32.9839292 , -46.76601728],\n",
       "       ..., \n",
       "       [ -7.51554112,  68.43499666],\n",
       "       [  4.80529713, -31.55130889],\n",
       "       [ 28.91619578,  56.49229974]])"
      ]
     },
     "execution_count": 397,
     "metadata": {},
     "output_type": "execute_result"
    }
   ],
   "source": [
    "# n = np.random.rand(100, 5) * 100\n",
    "p.get_projection(2, arr)"
   ]
  },
  {
   "cell_type": "code",
   "execution_count": 398,
   "metadata": {},
   "outputs": [
    {
     "data": {
      "image/png": "[encoded data removed]",
      "text/plain": [
       "<matplotlib.figure.Figure at 0x7fcb7ea3cb90>"
      ]
     },
     "metadata": {},
     "output_type": "display_data"
    },
    {
     "data": {
      "text/plain": [
       "(<matplotlib.collections.PathCollection at 0x7fcb7c125650>, None)"
      ]
     },
     "execution_count": 398,
     "metadata": {},
     "output_type": "execute_result"
    }
   ],
   "source": [
    "plt.scatter(p.get_projection(2, arr)[:, 0], p.get_projection(2, arr)[:, 1]), plt.show()"
   ]
  },
  {
   "cell_type": "code",
   "execution_count": 381,
   "metadata": {},
   "outputs": [
    {
     "data": {
      "text/plain": [
       "array([[  4.75739986e+01,   7.01447262e+01,   6.15969567e+01,\n",
       "          4.58253372e+01,  -5.69668184e+01],\n",
       "       [  3.61822672e+01,   5.13359046e+01,   4.94299651e+01,\n",
       "          3.55410423e+01,  -4.41973399e+01],\n",
       "       [  1.14006965e+01,   2.33128919e+01,   6.41552985e+00,\n",
       "          8.75605176e+00,  -1.08356895e+01],\n",
       "       [  3.32405652e+01,   6.24749515e+01,   2.57604483e+01,\n",
       "          2.74110687e+01,  -3.39736117e+01],\n",
       "       [  2.43117847e+01,   5.51029232e+01,   6.76587357e+00,\n",
       "          1.68280190e+01,  -2.07736744e+01],\n",
       "       [  2.13141783e+01,   1.44534810e+01,   4.93778984e+01,\n",
       "          2.63392701e+01,  -3.28715626e+01],\n",
       "       [  1.49180270e+01,   2.83577871e+01,   1.11508031e+01,\n",
       "          1.21924111e+01,  -1.51085967e+01],\n",
       "       [  1.37113552e+01,   1.43521634e+01,   2.52785650e+01,\n",
       "          1.52142870e+01,  -1.89577048e+01],\n",
       "       [  3.62380183e+01,   5.25202485e+01,   4.80877796e+01,\n",
       "          3.52175641e+01,  -4.37868740e+01],\n",
       "       [  4.63921935e+01,   7.69785204e+01,   4.90609287e+01,\n",
       "          4.17519568e+01,  -5.18381775e+01],\n",
       "       [  3.71678810e+01,   4.31433799e+01,   6.30843998e+01,\n",
       "          3.97914378e+01,  -4.95541267e+01],\n",
       "       [  3.31331323e+01,   3.45271994e+01,   6.12831706e+01,\n",
       "          3.68177771e+01,  -4.58776664e+01],\n",
       "       [  2.66921314e+01,   6.48835836e+01,   1.80034100e+00,\n",
       "          1.69747846e+01,  -2.09086663e+01],\n",
       "       [  2.34521460e+01,   4.70929501e+01,   1.43054270e+01,\n",
       "          1.83074230e+01,  -2.26637896e+01],\n",
       "       [  2.96403007e+01,   7.01946323e+01,   4.38020837e+00,\n",
       "          1.94846275e+01,  -2.40214290e+01],\n",
       "       [  2.26136866e+01,   5.81998101e+01,  -2.61998342e+00,\n",
       "          1.32756686e+01,  -1.63152600e+01],\n",
       "       [  4.55994338e+01,   9.82793319e+01,   1.91993518e+01,\n",
       "          3.32986632e+01,  -4.11595980e+01],\n",
       "       [  2.23240603e+01,   6.45746003e+01,  -1.17237012e+01,\n",
       "          1.06689377e+01,  -1.30232827e+01],\n",
       "       [  3.39474194e+01,   5.45901051e+01,   3.81316668e+01,\n",
       "          3.11469975e+01,  -3.86854110e+01],\n",
       "       [  4.69290742e+01,   7.45934262e+01,   5.38326777e+01,\n",
       "          4.33562440e+01,  -5.38565540e+01],\n",
       "       [  1.66298598e+01,   2.57950429e+01,   1.98949709e+01,\n",
       "          1.55821252e+01,  -1.93609442e+01],\n",
       "       [  3.47762676e+01,   5.23784877e+01,   4.36112627e+01,\n",
       "          3.31204756e+01,  -4.11646845e+01],\n",
       "       [  2.26714226e+01,   4.31587150e+01,   1.68661168e+01,\n",
       "          1.85078444e+01,  -2.29340010e+01],\n",
       "       [  2.95833835e+01,   4.32401740e+01,   3.87892331e+01,\n",
       "          2.86255549e+01,  -3.55881303e+01],\n",
       "       [  3.62904288e+01,   9.57447788e+01,  -7.21484458e+00,\n",
       "          2.05020065e+01,  -2.51670102e+01],\n",
       "       [  2.34066173e+01,   1.25894377e+01,   5.84383789e+01,\n",
       "          3.00485370e+01,  -3.75201148e+01],\n",
       "       [  4.10084853e+01,   7.59887543e+01,   3.31738061e+01,\n",
       "          3.41883071e+01,  -4.23830020e+01],\n",
       "       [  3.21431996e+01,   4.92592617e+01,   3.92228419e+01,\n",
       "          3.03230529e+01,  -3.76813519e+01],\n",
       "       [  2.26982215e+01,   5.32562224e+01,   3.99348139e+00,\n",
       "          1.50915676e+01,  -1.86110118e+01],\n",
       "       [  1.77211353e+01,   4.61409437e+01,  -2.73696654e+00,\n",
       "          1.02210699e+01,  -1.25546652e+01],\n",
       "       [  8.83447151e+00,   3.40604493e+01,  -1.55549881e+01,\n",
       "          1.31119217e+00,  -1.47079884e+00],\n",
       "       [  2.48875755e+01,   2.79246942e+01,   4.34784317e+01,\n",
       "          2.69742345e+01,  -3.35988319e+01],\n",
       "       [  1.57868734e+01,   2.17838723e+01,   2.23559657e+01,\n",
       "          1.57174842e+01,  -1.95501620e+01],\n",
       "       [  3.82993014e+01,   7.84300783e+01,   2.14070085e+01,\n",
       "          2.93762034e+01,  -3.63522308e+01],\n",
       "       [  3.25844633e+01,   7.80159563e+01,   3.72589294e+00,\n",
       "          2.11295118e+01,  -2.60398948e+01],\n",
       "       [  2.29704268e+01,   3.45840661e+01,   2.88227798e+01,\n",
       "          2.18811857e+01,  -2.71957266e+01],\n",
       "       [  2.78460982e+01,   1.51193376e+01,   6.93399142e+01,\n",
       "          3.56991497e+01,  -4.45749472e+01],\n",
       "       [  2.69891090e+01,   5.15455282e+01,   1.98633820e+01,\n",
       "          2.19753048e+01,  -2.72292108e+01],\n",
       "       [  1.43021586e+01,   4.93734312e+01,  -1.77810878e+01,\n",
       "          4.09635528e+00,  -4.87824182e+00],\n",
       "       [  1.52302903e+01,   1.47872340e+01,   2.95609203e+01,\n",
       "          1.72949346e+01,  -2.15578746e+01],\n",
       "       [  9.70293558e+00,  -9.66255375e+00,   4.33220469e+01,\n",
       "          1.75490272e+01,  -2.19970977e+01],\n",
       "       [  4.02774411e+01,   7.44072711e+01,   3.28735525e+01,\n",
       "          3.36564801e+01,  -4.17256833e+01],\n",
       "       [  2.23624625e+01,   1.41899153e+01,   5.30568952e+01,\n",
       "          2.79681723e+01,  -3.49101900e+01],\n",
       "       [  1.65820038e+01,   1.38259681e+01,   3.51022652e+01,\n",
       "          1.96079897e+01,  -2.44556581e+01],\n",
       "       [  2.59090140e+01,   2.07078012e+01,   5.59950168e+01,\n",
       "          3.09433298e+01,  -3.85989427e+01],\n",
       "       [  8.96855970e+00,   1.38267332e+01,   1.08380820e+01,\n",
       "          8.43248153e+00,  -1.04781000e+01],\n",
       "       [  3.43464431e+01,   6.43427570e+01,   2.68878206e+01,\n",
       "          2.83951016e+01,  -3.51950964e+01],\n",
       "       [  3.01673096e+01,   3.86181496e+01,   4.65815433e+01,\n",
       "          3.10644289e+01,  -3.86614594e+01],\n",
       "       [  3.11651717e+01,   8.61188681e+01,  -1.11956256e+01,\n",
       "          1.62732183e+01,  -1.99257377e+01],\n",
       "       [  1.74505722e+01,   5.23243973e+01,  -1.15343917e+01,\n",
       "          7.70780055e+00,  -9.38053330e+00],\n",
       "       [  4.48475011e+01,   6.77903774e+01,   5.59292266e+01,\n",
       "          4.26290163e+01,  -5.29807729e+01],\n",
       "       [  3.62819691e+01,   4.43845189e+01,   5.86683545e+01,\n",
       "          3.80663213e+01,  -4.73903062e+01],\n",
       "       [  3.61644197e+01,   5.93116204e+01,   3.91379226e+01,\n",
       "          3.27853608e+01,  -4.07111150e+01],\n",
       "       [  2.18792249e+01,   5.21419051e+01,   2.81342370e+00,\n",
       "          1.42707659e+01,  -1.75899437e+01],\n",
       "       [  3.23924578e+01,   5.87790385e+01,   2.78005561e+01,\n",
       "          2.74310221e+01,  -3.40169226e+01],\n",
       "       [  2.87023013e+01,   8.92896328e+01,  -2.31135338e+01,\n",
       "          1.15730289e+01,  -1.40313187e+01],\n",
       "       [  2.77419241e+01,   4.98056523e+01,   2.44952873e+01,\n",
       "          2.36757378e+01,  -2.93646355e+01],\n",
       "       [  2.78467874e+01,   1.76073145e+01,   6.61493120e+01,\n",
       "          3.48487150e+01,  -4.34989264e+01],\n",
       "       [  1.95837570e+01,   5.87366897e+01,  -1.29650056e+01,\n",
       "          8.64451182e+00,  -1.05202626e+01],\n",
       "       [  2.27179697e+01,   4.90260344e+01,   9.48497898e+00,\n",
       "          1.65682280e+01,  -2.04789246e+01],\n",
       "       [  1.53610703e+01,   6.66897329e+00,   4.03957924e+01,\n",
       "          2.02651640e+01,  -2.53131491e+01],\n",
       "       [  2.16044152e+01,   4.21552592e+01,   1.47534083e+01,\n",
       "          1.72850652e+01,  -2.14096165e+01],\n",
       "       [  1.29885732e+01,   4.49228076e+01,  -1.62558936e+01,\n",
       "          3.69134622e+00,  -4.39378698e+00],\n",
       "       [  3.27009093e+01,   2.81792941e+01,   6.80519337e+01,\n",
       "          3.83557548e+01,  -4.78327876e+01],\n",
       "       [  2.34668602e+01,   1.32409697e+01,   5.77942615e+01,\n",
       "          2.99139934e+01,  -3.73486013e+01],\n",
       "       [  2.95863297e+01,   6.02049045e+01,   1.70279365e+01,\n",
       "          2.28241354e+01,  -2.82478656e+01],\n",
       "       [  2.52552070e+01,   3.83648068e+01,   3.12523302e+01,\n",
       "          2.39409945e+01,  -2.97532174e+01],\n",
       "       [  3.17021767e+01,   4.83483692e+01,   3.89862910e+01,\n",
       "          2.99874356e+01,  -3.72661086e+01],\n",
       "       [  3.16166528e+01,   4.35617608e+01,   4.48563474e+01,\n",
       "          3.14999950e+01,  -3.91816846e+01],\n",
       "       [  2.27299613e+01,   3.59885163e+01,   2.62541243e+01,\n",
       "          2.10475859e+01,  -2.61461427e+01],\n",
       "       [  7.45737284e+00,  -5.33303689e+00,   3.06096577e+01,\n",
       "          1.27712553e+01,  -1.59998893e+01],\n",
       "       [  1.24155398e+01,   2.87159598e+01,   2.71601433e+00,\n",
       "          8.39660832e+00,  -1.03592899e+01],\n",
       "       [  1.97798141e+01,   4.96437483e+01,  -6.71303311e-01,\n",
       "          1.20441166e+01,  -1.48174106e+01],\n",
       "       [  3.12393828e+01,   4.10248536e+01,   4.69096198e+01,\n",
       "          3.18144180e+01,  -3.95875418e+01],\n",
       "       [  6.44849143e+00,   8.12322228e+00,   1.01261683e+01,\n",
       "          6.68532856e+00,  -8.32120624e+00],\n",
       "       [  4.33289061e+01,   8.22793042e+01,   3.24961235e+01,\n",
       "          3.54415124e+01,  -4.39191847e+01],\n",
       "       [  3.61887148e+01,   7.23813713e+01,   2.24430547e+01,\n",
       "          2.83482348e+01,  -3.50965575e+01],\n",
       "       [  3.27002499e+01,   3.15950493e+01,   6.36664241e+01,\n",
       "          3.71858322e+01,  -4.63525659e+01],\n",
       "       [  1.19782179e+01,   1.59471123e+01,   1.77084653e+01,\n",
       "          1.21245046e+01,  -1.50852975e+01],\n",
       "       [  1.78683101e+01,   2.90813455e+01,   1.96244921e+01,\n",
       "          1.62753077e+01,  -2.02116087e+01],\n",
       "       [  3.71090855e+01,   7.79321618e+01,   1.82528944e+01,\n",
       "          2.77995673e+01,  -3.43827559e+01],\n",
       "       [  2.04324993e+01,   5.71407833e+01,  -8.21214583e+00,\n",
       "          1.04364798e+01,  -1.27694580e+01],\n",
       "       [  2.61601867e+01,   8.78636461e+00,   7.20941486e+01,\n",
       "          3.53918149e+01,  -4.42220046e+01],\n",
       "       [  3.55016021e+01,   4.26731180e+01,   5.83776369e+01,\n",
       "          3.75065578e+01,  -4.66986918e+01],\n",
       "       [  1.00122025e+01,   4.25826031e+01,  -2.27380935e+01,\n",
       "          1.23413084e-01,   5.71156701e-02],\n",
       "       [  3.48310139e+01,   7.40982903e+01,   1.59129059e+01,\n",
       "          2.57677883e+01,  -3.18605866e+01],\n",
       "       [  1.35014221e+01,   4.37796007e+01,  -1.31544341e+01,\n",
       "          4.83535471e+00,  -5.83031119e+00],\n",
       "       [  4.50199487e+00,   6.28862172e+00,   6.27722626e+00,\n",
       "          4.45604633e+00,  -5.54208483e+00],\n",
       "       [  2.60035679e+01,   4.90786067e+01,   1.98883503e+01,\n",
       "          2.13729382e+01,  -2.64880633e+01],\n",
       "       [  2.61044268e+01,   4.91298021e+01,   2.01440775e+01,\n",
       "          2.15034615e+01,  -2.66510587e+01],\n",
       "       [  2.30649356e+01,   7.85263403e+01,  -2.72667563e+01,\n",
       "          6.98179179e+00,  -8.34236847e+00],\n",
       "       [  2.46595268e+01,   3.92690873e+01,   2.81935083e+01,\n",
       "          2.27571699e+01,  -2.82680806e+01],\n",
       "       [  3.94735613e+01,   1.00378287e+02,  -3.01669430e+00,\n",
       "          2.35886063e+01,  -2.90045054e+01],\n",
       "       [  2.79937428e+01,   3.28309348e+01,   4.70813078e+01,\n",
       "          2.98545269e+01,  -3.71769377e+01],\n",
       "       [  4.04827974e+01,   7.79590420e+01,   2.89700448e+01,\n",
       "          3.27424059e+01,  -4.05647838e+01],\n",
       "       [  1.31504931e+01,   6.64969341e+00,   3.33756700e+01,\n",
       "          1.70270092e+01,  -2.12631844e+01],\n",
       "       [  1.93852211e+01,   9.57433137e+00,   4.94918947e+01,\n",
       "          2.51776516e+01,  -3.14429210e+01],\n",
       "       [  2.88540315e+01,   3.58384819e+01,   4.59633941e+01,\n",
       "          3.00880291e+01,  -3.74540501e+01],\n",
       "       [  3.49392966e+01,   7.26791489e+01,   1.80791621e+01,\n",
       "          2.64123937e+01,  -3.26738623e+01],\n",
       "       [  2.95154154e+01,   5.22312529e+01,   2.70344558e+01,\n",
       "          2.54488231e+01,  -3.15702422e+01]])"
      ]
     },
     "execution_count": 381,
     "metadata": {},
     "output_type": "execute_result"
    }
   ],
   "source": [
    "p.inverse_PCA(p.get_projection(2, n))"
   ]
  },
  {
   "cell_type": "code",
   "execution_count": null,
   "metadata": {
    "collapsed": true
   },
   "outputs": [],
   "source": [
    "\n"
   ]
  }
 ],
 "metadata": {
  "kernelspec": {
   "display_name": "Python 2",
   "language": "python",
   "name": "python2"
  },
  "language_info": {
   "codemirror_mode": {
    "name": "ipython",
    "version": 2
   },
   "file_extension": ".py",
   "mimetype": "text/x-python",
   "name": "python",
   "nbconvert_exporter": "python",
   "pygments_lexer": "ipython2",
   "version": "2.7.13"
  }
 },
 "nbformat": 4,
 "nbformat_minor": 2
}
