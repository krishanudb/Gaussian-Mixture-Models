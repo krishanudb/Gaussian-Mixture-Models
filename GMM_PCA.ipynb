{
 "cells": [
  {
   "cell_type": "code",
   "execution_count": 20,
   "metadata": {
    "collapsed": true
   },
   "outputs": [],
   "source": [
    "import numpy as np\n",
    "import matplotlib.pyplot as plt\n",
    "import pandas as pd"
   ]
  },
  {
   "cell_type": "markdown",
   "metadata": {},
   "source": [
    "### Code for GMM and EM"
   ]
  },
  {
   "cell_type": "code",
   "execution_count": 62,
   "metadata": {
    "collapsed": true
   },
   "outputs": [],
   "source": [
    "import numpy as np\n",
    "\n",
    "class GMM():\n",
    "    def __init__(self, n_components, data):\n",
    "        self.num_data = data.shape[0]\n",
    "        self.dimension = data.shape[1]\n",
    "        self.data = data\n",
    "        self.components = n_components\n",
    "        self.means = self.initialize_means()\n",
    "        self.covariances = self.initialize_variances()\n",
    "        self.lambdas = self.initialize_lambdas()\n",
    "            \n",
    "    \n",
    "    def initialize_means(self): \n",
    "        random_choice = np.random.choice(self.num_data, self.components, replace = False)\n",
    "        means_ = self.data[random_choice]\n",
    "        return means_\n",
    "        \n",
    "    def initialize_variances(self):\n",
    "        covariances_ = np.zeros((self.components, self.dimension, self.dimension))\n",
    "        for i in range(self.components):\n",
    "            covariances_[i] = np.cov(self.data, rowvar = False)\n",
    "        return covariances_    \n",
    "    \n",
    "    def initialize_lambdas(self):\n",
    "        return np.ones([self.components]) / float(self.components)\n",
    "        \n",
    "        \n",
    "    def initialize_gammas(self):\n",
    "        \"\"\"Initializes gammas to random values maintaining their sum = 1 for each component\"\"\"\n",
    "        gammas_ = np.random.rand(self.components, self.num_data)\n",
    "        gammas_ = gammas_ / gammas_.sum(0)\n",
    "        return gammas_\n",
    "        \n",
    "    def calculate_means(self):\n",
    "        \"\"\"Calculates the means based on the current values of gammas\"\"\"\n",
    "#         print(self.num_data, self.components, self.dimension)\n",
    "        means_ = np.zeros((self.components, self.dimension))\n",
    "        for i in range(self.components):\n",
    "            for j in range(self.num_data):\n",
    "                means_[i] += self.gammas[i][j] * self.data[j] / self.gammas[i].sum()\n",
    "        return means_\n",
    "        \n",
    "    def calculate_variances(self):\n",
    "        \"\"\"Calculates the covariances based on the current values of gammas\"\"\"\n",
    "\n",
    "        covariances_ = np.zeros((self.components, self.dimension, self.dimension))\n",
    "        for i in range(self.components):\n",
    "            for j in range(self.num_data):\n",
    "                covariances_[i] += self.gammas[i][j] * np.dot((self.data[j] - self.means[i]).reshape(-1, 1), (self.data[j] - self.means[i]).reshape(-1, 1).T) / self.gammas[i].sum()\n",
    "                if np.log(np.linalg.det(covariances_[i])) < -800:\n",
    "#                     print(np.power(np.e, -20))\n",
    "#                     print(\"Entering {}\".format(np.log(np.linalg.det(covariances_[i]))))\n",
    "                    covariances_[i] = np.cov(self.data, rowvar = False) / 100.\n",
    "                    self.means[i] = self.data[np.random.choice(self.num_data)]\n",
    "        return covariances_\n",
    "    \n",
    "    def calculate_lambdas(self):\n",
    "        \"\"\"Updates lambdas based on the values of gamma\"\"\"\n",
    "        return self.gammas.sum(1)/self.gammas.sum()\n",
    "    \n",
    "    def calculate_gammas(self):\n",
    "        \"\"\"Updates gammas based on the values of the means, covariances and lambdas\"\"\"\n",
    "        gammas_ = np.zeros((self.components, self.num_data))\n",
    "        for i in range(self.components):\n",
    "            for j in range(self.num_data):\n",
    "                gammas_[i, j] = self.lambdas[i] * self.gaussian_probability(self.data[j], self.means[i], self.covariances[i])\n",
    "        gammas_ = gammas_ / gammas_.sum(0)\n",
    "        return gammas_\n",
    "    \n",
    "    def calculate_likelihood(self):\n",
    "        \"\"\"Calculates the likelihood of data given parameters. We need to stop EM when likelihood saturates\"\"\"\n",
    "        prb = np.zeros((self.num_data))\n",
    "        for j in range(self.num_data):\n",
    "            for i in range(self.components):\n",
    "                prb[j] += self.lambdas[i] * self.gaussian_probability(self.data[j], self.means[i], self.covariances[i])\n",
    "        likelihood_ = np.sum(np.log(prb))\n",
    "#         print(\"Likelihood {}\".format(likelihood_))\n",
    "        return likelihood_\n",
    "    \n",
    "    def gaussian_probability(self, x_, mu_, sigma_):\n",
    "        \"\"\"Given the datapoint, mean for the component and the variance matrix of the component, calculates the probability\"\"\"\n",
    "        x_ = x_.reshape(-1, 1)\n",
    "        mu_ = mu_.reshape(-1, 1)\n",
    "\n",
    "        prob_ = (1. / (np.power(2 * np.pi, self.dimension / 2.) * np.power(np.linalg.det(sigma_), 0.5))) * np.exp(- 0.5 * np.dot((x_ - mu_).T, np.dot(np.linalg.inv(sigma_), (x_ - mu_))))\n",
    "        prob_ = float(prob_.reshape(1))\n",
    "#         print(prob_)\n",
    "        return prob_\n",
    "\n",
    "    def generate_data(self, n_data):\n",
    "        \"\"\"creates a list of data points\"\"\"    \n",
    "    \n",
    "        data_ = np.zeros((n_data, self.dimension))\n",
    "        for i in range(n_data):\n",
    "            # pick a cluster id and create data from this cluster\n",
    "            k = np.random.choice(self.components, size = 1, p = self.lambdas)[0]\n",
    "            x = np.random.multivariate_normal(self.means[k], self.covariances[k])\n",
    "            data_[i] = x\n",
    "\n",
    "        return data_\n",
    "\n",
    "\n",
    "    def EM(self, max_iter, show_plot = True):\n",
    "        likelihood_list = []\n",
    "        converged = False\n",
    "        optimal_params = {}\n",
    "        for i in range(max_iter):\n",
    "            self.gammas = self.calculate_gammas() # E STEP\n",
    "            self.means = self.calculate_means() # M STEP\n",
    "            self.covariances = self.calculate_variances() # M STEP\n",
    "            self.lambdas = self.calculate_lambdas() # M STEP\n",
    "            likelihood_ = self.calculate_likelihood() # CALCULATE LIKELIHOOD\n",
    "            if i > 1:\n",
    "                if likelihood_ > max(likelihood_list): \n",
    "                    # SET ALL VALUES TO THE PARAMETER VALUES WHICH OBTAINED HIGHEST LIKELIHOOD\n",
    "                    optimal_params[\"means\"] = self.means.copy()\n",
    "                    optimal_params[\"covariances\"] = self.covariances.copy()\n",
    "                    optimal_params[\"gammas\"] = self.gammas.copy()\n",
    "                    optimal_params[\"lambdas\"] = self.lambdas.copy()\n",
    "            likelihood_list.append(likelihood_)\n",
    "            if i % (max_iter / 20) == 0:\n",
    "                print(\"Iteration {}, Log Likelihood {}\".format(i, likelihood_list[-1]))\n",
    "            if len(likelihood_list) > 50:\n",
    "                if likelihood_list[-25] >= likelihood_list[-1]:\n",
    "                    print(\"Converged\")\n",
    "                    converged = True\n",
    "            if converged:\n",
    "                break\n",
    "        self.means = optimal_params[\"means\"]\n",
    "        self.covariances = optimal_params[\"covariances\"]\n",
    "        self.gammas = optimal_params[\"gammas\"]\n",
    "        self.lambdas = optimal_params[\"lambdas\"]\n",
    "        self.likelihood_list = likelihood_list\n",
    "        if show_plot:\n",
    "            self.show_likelihood_plot()\n",
    "#         return likelihood_list\n",
    "    \n",
    "    def show_likelihood_plot(self):\n",
    "        plt.figure(figsize=(10, 5))\n",
    "        plt.plot(self.likelihood_list)\n",
    "        plt.ylabel(\"Log Likelihood of Data given Parameters\")\n",
    "        plt.xlabel(\"Iterations\")\n",
    "        plt.show()"
   ]
  },
  {
   "cell_type": "markdown",
   "metadata": {},
   "source": [
    "### Code for PCA"
   ]
  },
  {
   "cell_type": "code",
   "execution_count": 63,
   "metadata": {
    "collapsed": true
   },
   "outputs": [],
   "source": [
    "class PCA:\n",
    "    def __init__(self, data):\n",
    "        self.num_data = data.shape[0]\n",
    "        self.dimension = data.shape[1]\n",
    "        self.data = data\n",
    "        self.covariance = self.compute_covariance(data)\n",
    "        self.principal_components, self.principal_axes = self.compute_pca()\n",
    "    \n",
    "    def compute_covariance(self, X):\n",
    "        return np.cov(X.T)\n",
    "    \n",
    "    def compute_pca(self):\n",
    "        eigen_values, eigen_vectors = np.linalg.eig(self.covariance)\n",
    "        eigen_values, eigen_vectors = eigen_values.real, eigen_vectors.real\n",
    "        eigen = []\n",
    "        for i in range(len(eigen_values)):\n",
    "            eigen.append((eigen_values[i], eigen_vectors[:, i]))\n",
    "        eigen.sort(key=lambda x: x[0], reverse = True)\n",
    "        principal_axes = np.array([x[1] for x in eigen])\n",
    "        principal_comps = np.array([x[0] for x in eigen])\n",
    "        return principal_comps, principal_axes\n",
    "    \n",
    "    def get_principal_axes(self, num):\n",
    "        return self.principal_axes[:num]\n",
    "    \n",
    "    def get_projection(self, num, X):\n",
    "        n_axes = self.get_principal_axes(num)\n",
    "        projections = np.dot(n_axes, X.T)\n",
    "        return projections.T\n",
    "    \n",
    "    def inverse_PCA(self, X):\n",
    "        num = X.shape[1]\n",
    "        n_axes = self.get_principal_axes(num)\n",
    "        original_projections = np.dot(X, n_axes)\n",
    "        return original_projections"
   ]
  },
  {
   "cell_type": "markdown",
   "metadata": {},
   "source": [
    "### Reading in the MNIST Dataset"
   ]
  },
  {
   "cell_type": "code",
   "execution_count": 64,
   "metadata": {
    "collapsed": true
   },
   "outputs": [],
   "source": [
    "df = pd.read_csv(\"train.csv\", header=0, index_col=0)\n",
    "data_flat = {}\n",
    "data_image = {}\n",
    "for i in range(9):\n",
    "    x = df[df.index == i]\n",
    "    data_flat[i] = np.array(x)\n",
    "    x = np.array(x).reshape(len(x), 28, 28)\n",
    "    data_image[i] = x"
   ]
  },
  {
   "cell_type": "markdown",
   "metadata": {},
   "source": [
    "### Working with 1000 samples of the number/class 8\n",
    "All images are not used in order to save time in training the GMM"
   ]
  },
  {
   "cell_type": "code",
   "execution_count": 65,
   "metadata": {},
   "outputs": [],
   "source": [
    "X = data_flat[8]\n",
    "X = X[:1000]"
   ]
  },
  {
   "cell_type": "markdown",
   "metadata": {},
   "source": [
    "### Showing a few sample images"
   ]
  },
  {
   "cell_type": "code",
   "execution_count": 67,
   "metadata": {},
   "outputs": [
    {
     "data": {
      "image/png": "[encoded data removed]",
      "text/plain": [
       "<matplotlib.figure.Figure at 0x7ff2c1c28950>"
      ]
     },
     "metadata": {},
     "output_type": "display_data"
    }
   ],
   "source": [
    "def show_figs(im):\n",
    "    fig, ax = plt.subplots(1, 5, figsize= (20, 10))\n",
    "    for i in range(5):\n",
    "        ax[i].imshow(im[i].reshape(28, 28))\n",
    "        ax[i].set_xticks([])\n",
    "        ax[i].set_yticks([])\n",
    "    plt.show();\n",
    "    \n",
    "show_figs(X)"
   ]
  },
  {
   "cell_type": "markdown",
   "metadata": {},
   "source": [
    "### The samples are projected along the first 2 PC axes."
   ]
  },
  {
   "cell_type": "code",
   "execution_count": 68,
   "metadata": {
    "collapsed": true
   },
   "outputs": [],
   "source": [
    "pca = PCA(X)\n",
    "X2 = pca.get_projection(2, X)"
   ]
  },
  {
   "cell_type": "markdown",
   "metadata": {},
   "source": [
    "### The projected data are reprojected back to original feature space. The loss in quality of the image can be easily seen"
   ]
  },
  {
   "cell_type": "code",
   "execution_count": 75,
   "metadata": {},
   "outputs": [
    {
     "data": {
      "image/png": "[encoded data removed]",
      "text/plain": [
       "<matplotlib.figure.Figure at 0x7ff2c0f94210>"
      ]
     },
     "metadata": {},
     "output_type": "display_data"
    }
   ],
   "source": [
    "X2b = pca.inverse_PCA(X2)\n",
    "show_figs(X2b)"
   ]
  },
  {
   "cell_type": "markdown",
   "metadata": {},
   "source": [
    "### Using the lower dimensional projection of the samples, a GMM model is initialized.\n",
    "This GMM has five components."
   ]
  },
  {
   "cell_type": "code",
   "execution_count": 70,
   "metadata": {},
   "outputs": [],
   "source": [
    "gmm = GMM(5, X2)"
   ]
  },
  {
   "cell_type": "markdown",
   "metadata": {},
   "source": [
    "### The GMM is trained using the EM Algorithm for 500 iterations maximum.\n",
    "The Log likelihood of the data given parameters are plotted."
   ]
  },
  {
   "cell_type": "code",
   "execution_count": 71,
   "metadata": {},
   "outputs": [
    {
     "name": "stderr",
     "output_type": "stream",
     "text": [
      "/home/krishanu/anaconda2/lib/python2.7/site-packages/ipykernel_launcher.py:51: RuntimeWarning: invalid value encountered in log\n"
     ]
    },
    {
     "name": "stdout",
     "output_type": "stream",
     "text": [
      "Iteration 0, Log Likelihood -15327.8534777\n",
      "Iteration 25, Log Likelihood -15221.6005515\n",
      "Iteration 50, Log Likelihood -15221.2147279\n",
      "Iteration 75, Log Likelihood -15220.872256\n",
      "Iteration 100, Log Likelihood -15220.6008985\n",
      "Iteration 125, Log Likelihood -15220.3712175\n",
      "Iteration 150, Log Likelihood -15220.079959\n",
      "Iteration 175, Log Likelihood -15219.7899427\n",
      "Iteration 200, Log Likelihood -15219.5959219\n",
      "Iteration 225, Log Likelihood -15219.4769454\n",
      "Iteration 250, Log Likelihood -15219.3903356\n",
      "Iteration 275, Log Likelihood -15219.3057077\n",
      "Iteration 300, Log Likelihood -15219.2033675\n",
      "Iteration 325, Log Likelihood -15219.0700992\n",
      "Iteration 350, Log Likelihood -15218.9039333\n",
      "Iteration 375, Log Likelihood -15218.7287476\n",
      "Iteration 400, Log Likelihood -15218.5886223\n",
      "Iteration 425, Log Likelihood -15218.5027807\n",
      "Iteration 450, Log Likelihood -15218.4570587\n",
      "Iteration 475, Log Likelihood -15218.4322042\n"
     ]
    },
    {
     "data": {
      "image/png": "[encoded data removed]",
      "text/plain": [
       "<matplotlib.figure.Figure at 0x7ff2c1231090>"
      ]
     },
     "metadata": {},
     "output_type": "display_data"
    }
   ],
   "source": [
    "gmm.EM(500)"
   ]
  },
  {
   "cell_type": "markdown",
   "metadata": {},
   "source": [
    "### The trained GMM is used to generate new random samples."
   ]
  },
  {
   "cell_type": "code",
   "execution_count": 72,
   "metadata": {
    "collapsed": true
   },
   "outputs": [],
   "source": [
    "Z = gmm.generate_data(10)"
   ]
  },
  {
   "cell_type": "markdown",
   "metadata": {},
   "source": [
    "### The generated samples are in a lower dimensional space. They are projected back to the original feature space using inverse PCA."
   ]
  },
  {
   "cell_type": "code",
   "execution_count": 73,
   "metadata": {
    "collapsed": true
   },
   "outputs": [],
   "source": [
    "Zn = pca.inverse_PCA(Z)"
   ]
  },
  {
   "cell_type": "markdown",
   "metadata": {},
   "source": [
    "### Some samples are plotted.\n",
    "One can easily see that the images look similar to the number 8 but certain fine features are not there. This is due to the loss of features/information because of PCA."
   ]
  },
  {
   "cell_type": "code",
   "execution_count": 74,
   "metadata": {},
   "outputs": [
    {
     "data": {
      "image/png": "[encoded data removed]",
      "text/plain": [
       "<matplotlib.figure.Figure at 0x7ff2c176be10>"
      ]
     },
     "metadata": {},
     "output_type": "display_data"
    }
   ],
   "source": [
    "show_figs(Zn)"
   ]
  }
 ],
 "metadata": {
  "kernelspec": {
   "display_name": "Python 2",
   "language": "python",
   "name": "python2"
  },
  "language_info": {
   "codemirror_mode": {
    "name": "ipython",
    "version": 2
   },
   "file_extension": ".py",
   "mimetype": "text/x-python",
   "name": "python",
   "nbconvert_exporter": "python",
   "pygments_lexer": "ipython2",
   "version": "2.7.13"
  }
 },
 "nbformat": 4,
 "nbformat_minor": 2
}
