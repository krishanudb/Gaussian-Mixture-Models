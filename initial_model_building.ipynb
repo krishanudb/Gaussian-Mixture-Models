{
 "cells": [
  {
   "cell_type": "code",
   "execution_count": 1,
   "metadata": {
    "collapsed": true
   },
   "outputs": [],
   "source": [
    "import numpy as np\n",
    "import matplotlib.pyplot as plt"
   ]
  },
  {
   "cell_type": "code",
   "execution_count": 93,
   "metadata": {},
   "outputs": [],
   "source": [
    "class GMM():\n",
    "    def __init__(self, n_components, data):\n",
    "        self.num_data = data.shape[0]\n",
    "        self.dimension = data.shape[1]\n",
    "        self.data = data\n",
    "        self.components = n_components\n",
    "        self.means = self.initialize_means()\n",
    "        self.covariances = self.initialize_variances()\n",
    "        self.lambdas = self.initialize_lambdas()\n",
    "        \n",
    "#         self.gammas = self.initialize_gammas()\n",
    "#         self.means = self.calculate_means()\n",
    "#         self.covariances = self.calculate_variances()\n",
    "#         self.lambdas = self.calculate_lambdas()\n",
    "    \n",
    "    \n",
    "    def initialize_means(self): \n",
    "        random_choice = np.random.choice(self.num_data, self.components, replace = False)\n",
    "        means_ = self.data[random_choice]\n",
    "        return means_\n",
    "        \n",
    "    def initialize_variances(self):\n",
    "        covariances_ = np.zeros((self.components, self.dimension, self.dimension))\n",
    "        for i in range(self.components):\n",
    "            covariances_[i] = np.cov(self.data, rowvar = False)\n",
    "        return covariances_    \n",
    "    \n",
    "    def initialize_lambdas(self):\n",
    "        return np.ones([self.components]) / float(self.components)\n",
    "        \n",
    "        \n",
    "    def initialize_gammas(self):\n",
    "        \"\"\"Initializes gammas to random values maintaining their sum = 1 for each component\"\"\"\n",
    "        gammas_ = np.random.rand(self.components, self.num_data)\n",
    "        gammas_ = gammas_ / gammas_.sum(0)\n",
    "        return gammas_\n",
    "        \n",
    "    def calculate_means(self):\n",
    "        \"\"\"Calculates the means based on the current values of gammas\"\"\"\n",
    "#         print(self.num_data, self.components, self.dimension)\n",
    "        means_ = np.zeros((self.components, self.dimension))\n",
    "        for i in range(self.components):\n",
    "            for j in range(self.num_data):\n",
    "                means_[i] += self.gammas[i][j] * self.data[j] / self.gammas[i].sum()\n",
    "        return means_\n",
    "        \n",
    "    def calculate_variances(self):\n",
    "        \"\"\"Calculates the covariances based on the current values of gammas\"\"\"\n",
    "\n",
    "        covariances_ = np.zeros((self.components, self.dimension, self.dimension))\n",
    "        for i in range(self.components):\n",
    "            for j in range(self.num_data):\n",
    "                covariances_[i] += self.gammas[i][j] * np.dot((self.data[j] - self.means[i]).reshape(-1, 1), (self.data[j] - self.means[i]).reshape(-1, 1).T) / self.gammas[i].sum()\n",
    "        return covariances_\n",
    "    \n",
    "    def calculate_lambdas(self):\n",
    "        \"\"\"Updates lambdas based on the values of gamma\"\"\"\n",
    "        return self.gammas.sum(1)/self.gammas.sum()\n",
    "    \n",
    "    def calculate_gammas(self):\n",
    "        \"\"\"Updates gammas based on the values of the means, covariances and lambdas\"\"\"\n",
    "        gammas_ = np.zeros((self.components, self.num_data))\n",
    "        for i in range(self.components):\n",
    "            for j in range(self.num_data):\n",
    "                gammas_[i, j] = self.lambdas[i] * self.gaussian_probability(self.data[j], self.means[i], self.covariances[i])\n",
    "        gammas_ = gammas_ / gammas_.sum(0)\n",
    "        return gammas_\n",
    "    \n",
    "    def calculate_likelihood(self):\n",
    "        \"\"\"Calculates the likelihood of data given parameters. We need to stop EM when likelihood saturates\"\"\"\n",
    "        prb = np.zeros((self.num_data))\n",
    "        for j in range(self.num_data):\n",
    "            for i in range(self.components):\n",
    "                prb[j] += self.lambdas[i] * self.gaussian_probability(self.data[j], self.means[i], self.covariances[i])\n",
    "        likelihood_ = np.sum(np.log(prb))\n",
    "        print(\"Likelihood {}\".format(likelihood_))\n",
    "        return likelihood_\n",
    "    \n",
    "    def gaussian_probability(self, x_, mu_, sigma_):\n",
    "        \"\"\"Given the datapoint, mean for the component and the variance matrix of the component, calculates the probability\"\"\"\n",
    "        x_ = x_.reshape(-1, 1)\n",
    "        mu_ = mu_.reshape(-1, 1)\n",
    "\n",
    "        prob_ = (1. / (np.power(2 * np.pi, self.dimension / 2.) * np.power(np.linalg.det(sigma_), 0.5))) * np.exp(- 0.5 * np.dot((x_ - mu_).T, np.dot(np.linalg.inv(sigma_), (x_ - mu_))))\n",
    "        prob_ = float(prob_.reshape(1))\n",
    "#         print(prob_)\n",
    "        return prob_\n",
    "\n",
    "    def EM(self):\n",
    "        likelihood_list = []\n",
    "        for i in range(100):\n",
    "            self.gammas = self.calculate_gammas() # E STEP\n",
    "            self.means = self.calculate_means() # M STEP\n",
    "            self.covariances = self.calculate_variances() # M STEP\n",
    "            self.lambdas = self.calculate_lambdas() # M STEP\n",
    "            likelihood_list.append(self.calculate_likelihood()) #CALCULATE LIKELIHOOD\n",
    "            if len(likelihood_list) > 10 and likelihood_list[-3] == likelihood_list[-1]:\n",
    "                break\n",
    "        return likelihood_list"
   ]
  },
  {
   "cell_type": "markdown",
   "metadata": {},
   "source": [
    "### Data Preparation and Initialization"
   ]
  },
  {
   "cell_type": "code",
   "execution_count": 94,
   "metadata": {},
   "outputs": [
    {
     "data": {
      "image/png": "[encoded data removed]",
      "text/plain": [
       "<matplotlib.figure.Figure at 0x7f8f906ca290>"
      ]
     },
     "metadata": {},
     "output_type": "display_data"
    }
   ],
   "source": [
    "def generate_data(n_data, means, covariances, weights):\n",
    "    \"\"\"creates a list of data points\"\"\"\n",
    "    n_clusters, n_features = means.shape\n",
    "    \n",
    "    data = np.zeros((n_data, n_features))\n",
    "    for i in range(n_data):\n",
    "        # pick a cluster id and create data from this cluster\n",
    "        k = np.random.choice(n_clusters, size = 1, p = weights)[0]\n",
    "        x = np.random.multivariate_normal(means[k], covariances[k])\n",
    "        data[i] = x\n",
    "   \n",
    "    return data\n",
    "\n",
    "\n",
    "# Model parameters, including the mean\n",
    "# covariance matrix and the weights for each cluster\n",
    "init_means = np.array([\n",
    "    [300, 50],\n",
    "    [-150, 100],\n",
    "    [100, 350]\n",
    "])\n",
    "\n",
    "init_covariances = np.array([\n",
    "    [[28.5, 0.], [0, 12.5]],\n",
    "    [[5.92, 3.38], [3.38, 2.91]],\n",
    "    [[25.5, 30.2], [30.2, 55.5]]\n",
    "])\n",
    "\n",
    "init_weights = [.25, .5, .25]\n",
    "\n",
    "# generate data\n",
    "# np.random.seed(4)\n",
    "X = generate_data(500, init_means, init_covariances, init_weights)\n",
    "\n",
    "plt.plot(X[:, 0], X[:, 1], 'ko')\n",
    "plt.tight_layout()\n",
    "plt.show()"
   ]
  },
  {
   "cell_type": "markdown",
   "metadata": {},
   "source": [
    "### Initializing Model on the Data"
   ]
  },
  {
   "cell_type": "code",
   "execution_count": 104,
   "metadata": {},
   "outputs": [],
   "source": [
    "mod = GMM(3, X)"
   ]
  },
  {
   "cell_type": "markdown",
   "metadata": {},
   "source": [
    "### Initial Parameters of the model"
   ]
  },
  {
   "cell_type": "code",
   "execution_count": 105,
   "metadata": {},
   "outputs": [
    {
     "data": {
      "text/plain": [
       "array([[[ 35047.93861537,   1873.80137722],\n",
       "        [  1873.80137722,  13761.40624636]],\n",
       "\n",
       "       [[ 35047.93861537,   1873.80137722],\n",
       "        [  1873.80137722,  13761.40624636]],\n",
       "\n",
       "       [[ 35047.93861537,   1873.80137722],\n",
       "        [  1873.80137722,  13761.40624636]]])"
      ]
     },
     "execution_count": 105,
     "metadata": {},
     "output_type": "execute_result"
    }
   ],
   "source": [
    "mod.covariances"
   ]
  },
  {
   "cell_type": "code",
   "execution_count": 106,
   "metadata": {},
   "outputs": [
    {
     "data": {
      "text/plain": [
       "array([[-147.20357109,  100.82838927],\n",
       "       [ 113.83756302,  366.00564723],\n",
       "       [ 109.78060932,  373.78174928]])"
      ]
     },
     "execution_count": 106,
     "metadata": {},
     "output_type": "execute_result"
    }
   ],
   "source": [
    "mod.means"
   ]
  },
  {
   "cell_type": "code",
   "execution_count": 107,
   "metadata": {},
   "outputs": [
    {
     "data": {
      "text/plain": [
       "array([ 0.33333333,  0.33333333,  0.33333333])"
      ]
     },
     "execution_count": 107,
     "metadata": {},
     "output_type": "execute_result"
    }
   ],
   "source": [
    "mod.lambdas"
   ]
  },
  {
   "cell_type": "markdown",
   "metadata": {},
   "source": [
    "### Running EM on the GMM\n",
    "\n",
    "Log Likelihoods in every iteration are printed"
   ]
  },
  {
   "cell_type": "code",
   "execution_count": 108,
   "metadata": {
    "scrolled": true
   },
   "outputs": [
    {
     "name": "stdout",
     "output_type": "stream",
     "text": [
      "Likelihood -5872.91518523\n",
      "Likelihood -4925.82388049\n",
      "Likelihood -4774.85884213\n",
      "Likelihood -4475.75372426\n",
      "Likelihood -4430.76820845\n",
      "Likelihood -4385.56651907\n",
      "Likelihood -4160.75132808\n",
      "Likelihood -3889.28087061\n",
      "Likelihood -2956.25243032\n",
      "Likelihood -2896.70075029\n",
      "Likelihood -2896.70075029\n",
      "Likelihood -2896.70075029\n"
     ]
    }
   ],
   "source": [
    "likelihoods = mod.EM()"
   ]
  },
  {
   "cell_type": "markdown",
   "metadata": {},
   "source": [
    "# "
   ]
  },
  {
   "cell_type": "code",
   "execution_count": 101,
   "metadata": {},
   "outputs": [
    {
     "data": {
      "text/plain": [
       "array([[[ 27.18011991,  -0.1766273 ],\n",
       "        [ -0.1766273 ,  14.20339821]],\n",
       "\n",
       "       [[  6.16200767,   3.29126623],\n",
       "        [  3.29126623,   2.87931373]],\n",
       "\n",
       "       [[ 21.80951979,  27.80218181],\n",
       "        [ 27.80218181,  52.18668519]]])"
      ]
     },
     "execution_count": 101,
     "metadata": {},
     "output_type": "execute_result"
    }
   ],
   "source": [
    "mod.covariances"
   ]
  },
  {
   "cell_type": "code",
   "execution_count": 102,
   "metadata": {},
   "outputs": [
    {
     "data": {
      "text/plain": [
       "array([ 0.234,  0.518,  0.248])"
      ]
     },
     "execution_count": 102,
     "metadata": {},
     "output_type": "execute_result"
    }
   ],
   "source": [
    "mod.lambdas"
   ]
  },
  {
   "cell_type": "code",
   "execution_count": 103,
   "metadata": {},
   "outputs": [
    {
     "data": {
      "text/plain": [
       "array([[ 300.37304351,   49.78891622],\n",
       "       [-149.98033461,   99.89445408],\n",
       "       [ 100.51627925,  351.46717122]])"
      ]
     },
     "execution_count": 103,
     "metadata": {},
     "output_type": "execute_result"
    }
   ],
   "source": [
    "mod.means"
   ]
  },
  {
   "cell_type": "code",
   "execution_count": null,
   "metadata": {
    "collapsed": true
   },
   "outputs": [],
   "source": []
  }
 ],
 "metadata": {
  "kernelspec": {
   "display_name": "Python 2",
   "language": "python",
   "name": "python2"
  },
  "language_info": {
   "codemirror_mode": {
    "name": "ipython",
    "version": 2
   },
   "file_extension": ".py",
   "mimetype": "text/x-python",
   "name": "python",
   "nbconvert_exporter": "python",
   "pygments_lexer": "ipython2",
   "version": "2.7.13"
  }
 },
 "nbformat": 4,
 "nbformat_minor": 2
}
