{
 "cells": [
  {
   "cell_type": "code",
   "execution_count": 1,
   "metadata": {
    "collapsed": true
   },
   "outputs": [],
   "source": [
    "import sys\n",
    "import numpy as np\n",
    "import matplotlib.pyplot as plt"
   ]
  },
  {
   "cell_type": "code",
   "execution_count": 145,
   "metadata": {},
   "outputs": [],
   "source": [
    "class GMM():\n",
    "    def __init__(self, n_components, data):\n",
    "        self.num_data = data.shape[0]\n",
    "        self.dimension = data.shape[1]\n",
    "        self.data = data\n",
    "        self.components = n_components\n",
    "        self.means = self.initialize_means()\n",
    "        self.covariances = self.initialize_variances()\n",
    "        self.lambdas = self.initialize_lambdas()\n",
    "            \n",
    "    \n",
    "    def initialize_means(self): \n",
    "        random_choice = np.random.choice(self.num_data, self.components, replace = False)\n",
    "        means_ = self.data[random_choice]\n",
    "        return means_\n",
    "        \n",
    "    def initialize_variances(self):\n",
    "        covariances_ = np.zeros((self.components, self.dimension, self.dimension))\n",
    "        for i in range(self.components):\n",
    "            covariances_[i] = np.cov(self.data, rowvar = False)\n",
    "        return covariances_    \n",
    "    \n",
    "    def initialize_lambdas(self):\n",
    "        return np.ones([self.components]) / float(self.components)\n",
    "        \n",
    "        \n",
    "    def initialize_gammas(self):\n",
    "        \"\"\"Initializes gammas to random values maintaining their sum = 1 for each component\"\"\"\n",
    "        gammas_ = np.random.rand(self.components, self.num_data)\n",
    "        gammas_ = gammas_ / gammas_.sum(0)\n",
    "        return gammas_\n",
    "        \n",
    "    def calculate_means(self):\n",
    "        \"\"\"Calculates the means based on the current values of gammas\"\"\"\n",
    "#         print(self.num_data, self.components, self.dimension)\n",
    "        means_ = np.zeros((self.components, self.dimension))\n",
    "        for i in range(self.components):\n",
    "            for j in range(self.num_data):\n",
    "                means_[i] += self.gammas[i][j] * self.data[j] / self.gammas[i].sum()\n",
    "        return means_\n",
    "        \n",
    "    def calculate_variances(self):\n",
    "        \"\"\"Calculates the covariances based on the current values of gammas\"\"\"\n",
    "\n",
    "        covariances_ = np.zeros((self.components, self.dimension, self.dimension))\n",
    "        for i in range(self.components):\n",
    "            for j in range(self.num_data):\n",
    "                covariances_[i] += self.gammas[i][j] * np.dot((self.data[j] - self.means[i]).reshape(-1, 1), (self.data[j] - self.means[i]).reshape(-1, 1).T) / self.gammas[i].sum()\n",
    "                if np.log(np.linalg.det(covariances_[i])) < -800:\n",
    "#                     print(np.power(np.e, -20))\n",
    "#                     print(\"Entering {}\".format(np.log(np.linalg.det(covariances_[i]))))\n",
    "                    covariances_[i] = np.cov(self.data, rowvar = False) / 100.\n",
    "                    self.means[i] = self.data[np.random.choice(self.num_data)]\n",
    "        return covariances_\n",
    "    \n",
    "    def calculate_lambdas(self):\n",
    "        \"\"\"Updates lambdas based on the values of gamma\"\"\"\n",
    "        return self.gammas.sum(1)/self.gammas.sum()\n",
    "    \n",
    "    def calculate_gammas(self):\n",
    "        \"\"\"Updates gammas based on the values of the means, covariances and lambdas\"\"\"\n",
    "        gammas_ = np.zeros((self.components, self.num_data))\n",
    "        for i in range(self.components):\n",
    "            for j in range(self.num_data):\n",
    "                gammas_[i, j] = self.lambdas[i] * self.gaussian_probability(self.data[j], self.means[i], self.covariances[i])\n",
    "        gammas_ = gammas_ / gammas_.sum(0)\n",
    "        return gammas_\n",
    "    \n",
    "    def calculate_likelihood(self):\n",
    "        \"\"\"Calculates the likelihood of data given parameters. We need to stop EM when likelihood saturates\"\"\"\n",
    "        prb = np.zeros((self.num_data))\n",
    "        for j in range(self.num_data):\n",
    "            for i in range(self.components):\n",
    "                prb[j] += self.lambdas[i] * self.gaussian_probability(self.data[j], self.means[i], self.covariances[i])\n",
    "        likelihood_ = np.sum(np.log(prb))\n",
    "#         print(\"Likelihood {}\".format(likelihood_))\n",
    "        return likelihood_\n",
    "    \n",
    "    def gaussian_probability(self, x_, mu_, sigma_):\n",
    "        \"\"\"Given the datapoint, mean for the component and the variance matrix of the component, calculates the probability\"\"\"\n",
    "        x_ = x_.reshape(-1, 1)\n",
    "        mu_ = mu_.reshape(-1, 1)\n",
    "\n",
    "        prob_ = (1. / (np.power(2 * np.pi, self.dimension / 2.) * np.power(np.linalg.det(sigma_), 0.5))) * np.exp(- 0.5 * np.dot((x_ - mu_).T, np.dot(np.linalg.inv(sigma_), (x_ - mu_))))\n",
    "        prob_ = float(prob_.reshape(1))\n",
    "#         print(prob_)\n",
    "        return prob_\n",
    "\n",
    "    def EM(self, max_iter):\n",
    "        likelihood_list = []\n",
    "        converged = False\n",
    "        for i in range(max_iter):\n",
    "            self.gammas = self.calculate_gammas() # E STEP\n",
    "            self.means = self.calculate_means() # M STEP\n",
    "            self.covariances = self.calculate_variances() # M STEP\n",
    "            self.lambdas = self.calculate_lambdas() # M STEP\n",
    "            likelihood_list.append(self.calculate_likelihood()) #CALCULATE LIKELIHOOD\n",
    "            if i % (max_iter / 20) == 0:\n",
    "                print(\"Iteration {}, Log Likelihood {}\".format(i, likelihood_list[-1]))\n",
    "            if len(likelihood_list) > 10:\n",
    "                for i in range(10, 5):\n",
    "                    if likelihood_list[-i] <= likelihood_list[-1]:\n",
    "                        print(\"Converged\")\n",
    "                        converged = True\n",
    "            if converged:\n",
    "                break\n",
    "        return likelihood_list"
   ]
  },
  {
   "cell_type": "markdown",
   "metadata": {},
   "source": [
    "### Data Preparation and Initialization"
   ]
  },
  {
   "cell_type": "code",
   "execution_count": 146,
   "metadata": {},
   "outputs": [
    {
     "data": {
      "image/png": "[encoded data removed]",
      "text/plain": [
       "<matplotlib.figure.Figure at 0x7fcb7e736d90>"
      ]
     },
     "metadata": {},
     "output_type": "display_data"
    }
   ],
   "source": [
    "def generate_data(n_data, means, covariances, weights):\n",
    "    \"\"\"creates a list of data points\"\"\"\n",
    "    n_clusters, n_features = means.shape\n",
    "    \n",
    "    data = np.zeros((n_data, n_features))\n",
    "    for i in range(n_data):\n",
    "        # pick a cluster id and create data from this cluster\n",
    "        k = np.random.choice(n_clusters, size = 1, p = weights)[0]\n",
    "        x = np.random.multivariate_normal(means[k], covariances[k])\n",
    "        data[i] = x\n",
    "   \n",
    "    return data\n",
    "\n",
    "\n",
    "# Model parameters, including the mean\n",
    "# covariance matrix and the weights for each cluster\n",
    "init_means = np.array([\n",
    "    [30, 50],\n",
    "    [-15, 10],\n",
    "    [70, 35],\n",
    "    [70, 325],\n",
    "    [170, 5],\n",
    "    [370, 235],\n",
    "    [170, 135],\n",
    "    [-70, -35],\n",
    "])\n",
    "\n",
    "init_covariances = np.array([\n",
    "    [[128.5, 0.], [0, 232.5]],\n",
    "    [[75.92, 6.38], [6.38, 102.91]],\n",
    "    [[105.5, 20.2], [20.2, 55.5]],\n",
    "    [[175.92, 36.38], [36.38, 129.1]],\n",
    "    [[275.92, 45.38], [45.38, 102.91]],\n",
    "    [[375.92, 6.38], [6.38, 10.91]],\n",
    "    [[5.92, 16.38], [16.38, 102.91]],\n",
    "    [[35.92, 6.38], [6.38, 12.91]]\n",
    "])\n",
    "\n",
    "init_weights = [.1, .1, .25, .1, .2, .125, .12, .005]\n",
    "\n",
    "# generate data\n",
    "# np.random.seed(4)\n",
    "X = generate_data(500, init_means, init_covariances, init_weights)\n",
    "\n",
    "plt.plot(X[:, 0], X[:, 1], 'ko')\n",
    "plt.tight_layout()\n",
    "plt.show()"
   ]
  },
  {
   "cell_type": "markdown",
   "metadata": {},
   "source": [
    "### Initializing Model on the Data"
   ]
  },
  {
   "cell_type": "code",
   "execution_count": 153,
   "metadata": {
    "collapsed": true
   },
   "outputs": [],
   "source": [
    "X = np.random.rand(1000, 5) * 100\n",
    "\n",
    "mod = GMM(5, X)"
   ]
  },
  {
   "cell_type": "markdown",
   "metadata": {},
   "source": [
    "### Initial Parameters of the model"
   ]
  },
  {
   "cell_type": "code",
   "execution_count": 154,
   "metadata": {},
   "outputs": [
    {
     "data": {
      "text/plain": [
       "array([[[ 776.92063492,   -3.99208987,  -12.32343989,    8.94565504,\n",
       "           29.30223589],\n",
       "        [  -3.99208987,  815.98104832,  -35.30023135,  -29.60724415,\n",
       "          -18.49843923],\n",
       "        [ -12.32343989,  -35.30023135,  832.4760742 ,   -2.02036375,\n",
       "           31.42294878],\n",
       "        [   8.94565504,  -29.60724415,   -2.02036375,  849.19201791,\n",
       "           38.44282235],\n",
       "        [  29.30223589,  -18.49843923,   31.42294878,   38.44282235,\n",
       "          827.24037601]],\n",
       "\n",
       "       [[ 776.92063492,   -3.99208987,  -12.32343989,    8.94565504,\n",
       "           29.30223589],\n",
       "        [  -3.99208987,  815.98104832,  -35.30023135,  -29.60724415,\n",
       "          -18.49843923],\n",
       "        [ -12.32343989,  -35.30023135,  832.4760742 ,   -2.02036375,\n",
       "           31.42294878],\n",
       "        [   8.94565504,  -29.60724415,   -2.02036375,  849.19201791,\n",
       "           38.44282235],\n",
       "        [  29.30223589,  -18.49843923,   31.42294878,   38.44282235,\n",
       "          827.24037601]],\n",
       "\n",
       "       [[ 776.92063492,   -3.99208987,  -12.32343989,    8.94565504,\n",
       "           29.30223589],\n",
       "        [  -3.99208987,  815.98104832,  -35.30023135,  -29.60724415,\n",
       "          -18.49843923],\n",
       "        [ -12.32343989,  -35.30023135,  832.4760742 ,   -2.02036375,\n",
       "           31.42294878],\n",
       "        [   8.94565504,  -29.60724415,   -2.02036375,  849.19201791,\n",
       "           38.44282235],\n",
       "        [  29.30223589,  -18.49843923,   31.42294878,   38.44282235,\n",
       "          827.24037601]],\n",
       "\n",
       "       [[ 776.92063492,   -3.99208987,  -12.32343989,    8.94565504,\n",
       "           29.30223589],\n",
       "        [  -3.99208987,  815.98104832,  -35.30023135,  -29.60724415,\n",
       "          -18.49843923],\n",
       "        [ -12.32343989,  -35.30023135,  832.4760742 ,   -2.02036375,\n",
       "           31.42294878],\n",
       "        [   8.94565504,  -29.60724415,   -2.02036375,  849.19201791,\n",
       "           38.44282235],\n",
       "        [  29.30223589,  -18.49843923,   31.42294878,   38.44282235,\n",
       "          827.24037601]],\n",
       "\n",
       "       [[ 776.92063492,   -3.99208987,  -12.32343989,    8.94565504,\n",
       "           29.30223589],\n",
       "        [  -3.99208987,  815.98104832,  -35.30023135,  -29.60724415,\n",
       "          -18.49843923],\n",
       "        [ -12.32343989,  -35.30023135,  832.4760742 ,   -2.02036375,\n",
       "           31.42294878],\n",
       "        [   8.94565504,  -29.60724415,   -2.02036375,  849.19201791,\n",
       "           38.44282235],\n",
       "        [  29.30223589,  -18.49843923,   31.42294878,   38.44282235,\n",
       "          827.24037601]]])"
      ]
     },
     "execution_count": 154,
     "metadata": {},
     "output_type": "execute_result"
    }
   ],
   "source": [
    "mod.covariances"
   ]
  },
  {
   "cell_type": "code",
   "execution_count": 155,
   "metadata": {},
   "outputs": [
    {
     "data": {
      "text/plain": [
       "array([[ 62.09454449,  12.84856586,  89.34031956,  49.25481973,\n",
       "         37.55779036],\n",
       "       [ 17.78653263,  29.20563368,  62.87296748,  68.12640673,\n",
       "         24.84392496],\n",
       "       [ 13.68989847,  57.67898314,   2.15538247,  35.91521354,\n",
       "         56.38174233],\n",
       "       [ 55.2349227 ,  67.15491372,  68.50725287,  91.964073  ,\n",
       "         98.18974159],\n",
       "       [ 59.04968715,  79.64980319,  66.79471496,  13.43414944,\n",
       "         23.95986566]])"
      ]
     },
     "execution_count": 155,
     "metadata": {},
     "output_type": "execute_result"
    }
   ],
   "source": [
    "mod.means"
   ]
  },
  {
   "cell_type": "code",
   "execution_count": 156,
   "metadata": {},
   "outputs": [
    {
     "data": {
      "text/plain": [
       "array([ 0.2,  0.2,  0.2,  0.2,  0.2])"
      ]
     },
     "execution_count": 156,
     "metadata": {},
     "output_type": "execute_result"
    }
   ],
   "source": [
    "mod.lambdas"
   ]
  },
  {
   "cell_type": "markdown",
   "metadata": {},
   "source": [
    "### Running EM on the GMM\n",
    "\n",
    "Log Likelihoods in every iteration are printed"
   ]
  },
  {
   "cell_type": "code",
   "execution_count": 157,
   "metadata": {
    "scrolled": true
   },
   "outputs": [
    {
     "name": "stderr",
     "output_type": "stream",
     "text": [
      "/home/krishanu/anaconda2/lib/python2.7/site-packages/ipykernel_launcher.py:49: RuntimeWarning: invalid value encountered in log\n"
     ]
    },
    {
     "name": "stdout",
     "output_type": "stream",
     "text": [
      "Iteration 0, Log Likelihood -23786.2854183\n",
      "Iteration 25, Log Likelihood -23600.967879\n",
      "Iteration 50, Log Likelihood -23582.7281925\n",
      "Iteration 75, Log Likelihood -23577.4992197\n",
      "Iteration 100, Log Likelihood -23577.1301867\n",
      "Iteration 125, Log Likelihood -23577.0169758\n",
      "Iteration 150, Log Likelihood -23576.9783546\n",
      "Iteration 175, Log Likelihood -23576.9648929\n",
      "Iteration 200, Log Likelihood -23576.9602457\n",
      "Iteration 225, Log Likelihood -23576.9586682\n",
      "Iteration 250, Log Likelihood -23576.9581404\n",
      "Iteration 275, Log Likelihood -23576.9579655\n",
      "Iteration 300, Log Likelihood -23576.9579079\n",
      "Iteration 325, Log Likelihood -23576.9578891\n",
      "Iteration 350, Log Likelihood -23576.9578829\n",
      "Iteration 375, Log Likelihood -23576.9578809\n",
      "Iteration 400, Log Likelihood -23576.9578802\n",
      "Iteration 425, Log Likelihood -23576.95788\n",
      "Iteration 450, Log Likelihood -23576.9578799\n",
      "Iteration 475, Log Likelihood -23576.9578799\n"
     ]
    }
   ],
   "source": [
    "likelihoods = mod.EM(500)"
   ]
  },
  {
   "cell_type": "code",
   "execution_count": 158,
   "metadata": {},
   "outputs": [
    {
     "data": {
      "image/png": "[encoded data removed]",
      "text/plain": [
       "<matplotlib.figure.Figure at 0x7fcb8a1e3f90>"
      ]
     },
     "metadata": {},
     "output_type": "display_data"
    }
   ],
   "source": [
    "plt.figure(figsize=(10, 5))\n",
    "plt.plot(likelihoods)\n",
    "plt.ylabel(\"Log Likelihood of Data given Parameters\")\n",
    "plt.xlabel(\"Iterations\")\n",
    "plt.show()"
   ]
  },
  {
   "cell_type": "markdown",
   "metadata": {},
   "source": [
    "### Model parameters after EM"
   ]
  },
  {
   "cell_type": "code",
   "execution_count": 46,
   "metadata": {},
   "outputs": [
    {
     "data": {
      "text/plain": [
       "array([[[  87.58975968,   23.46067151],\n",
       "        [  23.46067151,   54.92018212]],\n",
       "\n",
       "       [[  58.75289432,    3.4938826 ],\n",
       "        [   3.4938826 ,   96.48753419]],\n",
       "\n",
       "       [[ 116.51234275,   -1.06365612],\n",
       "        [  -1.06365612,  301.7242531 ]]])"
      ]
     },
     "execution_count": 46,
     "metadata": {},
     "output_type": "execute_result"
    }
   ],
   "source": [
    "mod.covariances"
   ]
  },
  {
   "cell_type": "code",
   "execution_count": 11,
   "metadata": {},
   "outputs": [
    {
     "data": {
      "text/plain": [
       "array([ 0.24438138,  0.27053524,  0.48508338])"
      ]
     },
     "execution_count": 11,
     "metadata": {},
     "output_type": "execute_result"
    }
   ],
   "source": [
    "mod.lambdas"
   ]
  },
  {
   "cell_type": "code",
   "execution_count": 12,
   "metadata": {},
   "outputs": [
    {
     "data": {
      "text/plain": [
       "array([[ 70.32781223,  34.25099333],\n",
       "       [ 29.89440707,  50.00063523],\n",
       "       [-15.65857873,   9.13675934]])"
      ]
     },
     "execution_count": 12,
     "metadata": {},
     "output_type": "execute_result"
    }
   ],
   "source": [
    "mod.means"
   ]
  },
  {
   "cell_type": "code",
   "execution_count": null,
   "metadata": {
    "collapsed": true
   },
   "outputs": [],
   "source": []
  }
 ],
 "metadata": {
  "kernelspec": {
   "display_name": "Python 2",
   "language": "python",
   "name": "python2"
  },
  "language_info": {
   "codemirror_mode": {
    "name": "ipython",
    "version": 2
   },
   "file_extension": ".py",
   "mimetype": "text/x-python",
   "name": "python",
   "nbconvert_exporter": "python",
   "pygments_lexer": "ipython2",
   "version": "2.7.13"
  }
 },
 "nbformat": 4,
 "nbformat_minor": 2
}
