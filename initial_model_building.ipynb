{
 "cells": [
  {
   "cell_type": "code",
   "execution_count": 1,
   "metadata": {
    "collapsed": true
   },
   "outputs": [],
   "source": [
    "import sys\n",
    "import numpy as np\n",
    "import matplotlib.pyplot as plt"
   ]
  },
  {
   "cell_type": "code",
   "execution_count": 162,
   "metadata": {},
   "outputs": [],
   "source": [
    "class GMM():\n",
    "    def __init__(self, n_components, data):\n",
    "        self.num_data = data.shape[0]\n",
    "        self.dimension = data.shape[1]\n",
    "        self.data = data\n",
    "        self.components = n_components\n",
    "        self.means = self.initialize_means()\n",
    "        self.covariances = self.initialize_variances()\n",
    "        self.lambdas = self.initialize_lambdas()\n",
    "            \n",
    "    \n",
    "    def initialize_means(self): \n",
    "        random_choice = np.random.choice(self.num_data, self.components, replace = False)\n",
    "        means_ = self.data[random_choice]\n",
    "        return means_\n",
    "        \n",
    "    def initialize_variances(self):\n",
    "        covariances_ = np.zeros((self.components, self.dimension, self.dimension))\n",
    "        for i in range(self.components):\n",
    "            covariances_[i] = np.cov(self.data, rowvar = False)\n",
    "        return covariances_    \n",
    "    \n",
    "    def initialize_lambdas(self):\n",
    "        return np.ones([self.components]) / float(self.components)\n",
    "        \n",
    "        \n",
    "    def initialize_gammas(self):\n",
    "        \"\"\"Initializes gammas to random values maintaining their sum = 1 for each component\"\"\"\n",
    "        gammas_ = np.random.rand(self.components, self.num_data)\n",
    "        gammas_ = gammas_ / gammas_.sum(0)\n",
    "        return gammas_\n",
    "        \n",
    "    def calculate_means(self):\n",
    "        \"\"\"Calculates the means based on the current values of gammas\"\"\"\n",
    "#         print(self.num_data, self.components, self.dimension)\n",
    "        means_ = np.zeros((self.components, self.dimension))\n",
    "        for i in range(self.components):\n",
    "            for j in range(self.num_data):\n",
    "                means_[i] += self.gammas[i][j] * self.data[j] / self.gammas[i].sum()\n",
    "        return means_\n",
    "        \n",
    "    def calculate_variances(self):\n",
    "        \"\"\"Calculates the covariances based on the current values of gammas\"\"\"\n",
    "\n",
    "        covariances_ = np.zeros((self.components, self.dimension, self.dimension))\n",
    "        for i in range(self.components):\n",
    "            for j in range(self.num_data):\n",
    "                covariances_[i] += self.gammas[i][j] * np.dot((self.data[j] - self.means[i]).reshape(-1, 1), (self.data[j] - self.means[i]).reshape(-1, 1).T) / self.gammas[i].sum()\n",
    "                if np.log(np.linalg.det(covariances_[i])) < -800:\n",
    "#                     print(np.power(np.e, -20))\n",
    "#                     print(\"Entering {}\".format(np.log(np.linalg.det(covariances_[i]))))\n",
    "                    covariances_[i] = np.cov(self.data, rowvar = False) / 100.\n",
    "                    self.means[i] = self.data[np.random.choice(self.num_data)]\n",
    "        return covariances_\n",
    "    \n",
    "    def calculate_lambdas(self):\n",
    "        \"\"\"Updates lambdas based on the values of gamma\"\"\"\n",
    "        return self.gammas.sum(1)/self.gammas.sum()\n",
    "    \n",
    "    def calculate_gammas(self):\n",
    "        \"\"\"Updates gammas based on the values of the means, covariances and lambdas\"\"\"\n",
    "        gammas_ = np.zeros((self.components, self.num_data))\n",
    "        for i in range(self.components):\n",
    "            for j in range(self.num_data):\n",
    "                gammas_[i, j] = self.lambdas[i] * self.gaussian_probability(self.data[j], self.means[i], self.covariances[i])\n",
    "        gammas_ = gammas_ / gammas_.sum(0)\n",
    "        return gammas_\n",
    "    \n",
    "    def calculate_likelihood(self):\n",
    "        \"\"\"Calculates the likelihood of data given parameters. We need to stop EM when likelihood saturates\"\"\"\n",
    "        prb = np.zeros((self.num_data))\n",
    "        for j in range(self.num_data):\n",
    "            for i in range(self.components):\n",
    "                prb[j] += self.lambdas[i] * self.gaussian_probability(self.data[j], self.means[i], self.covariances[i])\n",
    "        likelihood_ = np.sum(np.log(prb))\n",
    "#         print(\"Likelihood {}\".format(likelihood_))\n",
    "        return likelihood_\n",
    "    \n",
    "    def gaussian_probability(self, x_, mu_, sigma_):\n",
    "        \"\"\"Given the datapoint, mean for the component and the variance matrix of the component, calculates the probability\"\"\"\n",
    "        x_ = x_.reshape(-1, 1)\n",
    "        mu_ = mu_.reshape(-1, 1)\n",
    "\n",
    "        prob_ = (1. / (np.power(2 * np.pi, self.dimension / 2.) * np.power(np.linalg.det(sigma_), 0.5))) * np.exp(- 0.5 * np.dot((x_ - mu_).T, np.dot(np.linalg.inv(sigma_), (x_ - mu_))))\n",
    "        prob_ = float(prob_.reshape(1))\n",
    "#         print(prob_)\n",
    "        return prob_\n",
    "\n",
    "    def generate_data(self, n_data):\n",
    "        \"\"\"creates a list of data points\"\"\"    \n",
    "    \n",
    "        data_ = np.zeros((n_data, self.dimension))\n",
    "        for i in range(n_data):\n",
    "            # pick a cluster id and create data from this cluster\n",
    "            k = np.random.choice(self.components, size = 1, p = self.lambdas)[0]\n",
    "            x = np.random.multivariate_normal(self.means[k], self.covariances[k])\n",
    "            data_[i] = x\n",
    "\n",
    "        return data_\n",
    "\n",
    "\n",
    "    def EM(self, max_iter):\n",
    "        likelihood_list = []\n",
    "        converged = False\n",
    "        for i in range(max_iter):\n",
    "            self.gammas = self.calculate_gammas() # E STEP\n",
    "            self.means = self.calculate_means() # M STEP\n",
    "            self.covariances = self.calculate_variances() # M STEP\n",
    "            self.lambdas = self.calculate_lambdas() # M STEP\n",
    "            likelihood_list.append(self.calculate_likelihood()) #CALCULATE LIKELIHOOD\n",
    "            if i % (max_iter / 20) == 0:\n",
    "                print(\"Iteration {}, Log Likelihood {}\".format(i, likelihood_list[-1]))\n",
    "            if len(likelihood_list) > 10:\n",
    "#                 for i in range(10, 5):\n",
    "                if likelihood_list[-25] => likelihood_list[-1]:\n",
    "                    print(\"Converged\")\n",
    "                    converged = True\n",
    "            if converged:\n",
    "                break\n",
    "        return likelihood_list"
   ]
  },
  {
   "cell_type": "markdown",
   "metadata": {},
   "source": [
    "### Data Preparation and Initialization"
   ]
  },
  {
   "cell_type": "code",
   "execution_count": 169,
   "metadata": {},
   "outputs": [
    {
     "data": {
      "image/png": "[encoded data removed]",
      "text/plain": [
       "<matplotlib.figure.Figure at 0x7fcb7e803a10>"
      ]
     },
     "metadata": {},
     "output_type": "display_data"
    }
   ],
   "source": [
    "def generate_data(n_data, means, covariances, weights):\n",
    "    \"\"\"creates a list of data points\"\"\"\n",
    "    n_clusters, n_features = means.shape\n",
    "    \n",
    "    data = np.zeros((n_data, n_features))\n",
    "    for i in range(n_data):\n",
    "        # pick a cluster id and create data from this cluster\n",
    "        k = np.random.choice(n_clusters, size = 1, p = weights)[0]\n",
    "        x = np.random.multivariate_normal(means[k], covariances[k])\n",
    "        data[i] = x\n",
    "   \n",
    "    return data\n",
    "\n",
    "\n",
    "# Model parameters, including the mean\n",
    "# covariance matrix and the weights for each cluster\n",
    "init_means = np.array([\n",
    "    [30, 50],\n",
    "    [-15, 10],\n",
    "    [70, 35],\n",
    "    [70, 325],\n",
    "    [170, 5],\n",
    "    [370, 235],\n",
    "    [170, 135],\n",
    "    [-70, -35],\n",
    "])\n",
    "\n",
    "init_covariances = np.array([\n",
    "    [[128.5, 0.], [0, 232.5]],\n",
    "    [[75.92, 6.38], [6.38, 102.91]],\n",
    "    [[105.5, 20.2], [20.2, 55.5]],\n",
    "    [[175.92, 36.38], [36.38, 129.1]],\n",
    "    [[275.92, 45.38], [45.38, 102.91]],\n",
    "    [[375.92, 6.38], [6.38, 10.91]],\n",
    "    [[5.92, 16.38], [16.38, 102.91]],\n",
    "    [[35.92, 6.38], [6.38, 12.91]]\n",
    "])\n",
    "\n",
    "init_weights = [.1, .1, .25, .1, .2, .125, .12, .005]\n",
    "\n",
    "# generate data\n",
    "# np.random.seed(4)\n",
    "X = generate_data(500, init_means, init_covariances, init_weights)\n",
    "\n",
    "plt.plot(X[:, 0], X[:, 1], 'ko')\n",
    "plt.tight_layout()\n",
    "plt.show()"
   ]
  },
  {
   "cell_type": "markdown",
   "metadata": {},
   "source": [
    "### Initializing Model on the Data"
   ]
  },
  {
   "cell_type": "code",
   "execution_count": 187,
   "metadata": {
    "collapsed": true
   },
   "outputs": [],
   "source": [
    "# X = np.random.rand(1000, 5) * 100\n",
    "\n",
    "mod = GMM(8, X)"
   ]
  },
  {
   "cell_type": "markdown",
   "metadata": {},
   "source": [
    "### Initial Parameters of the model"
   ]
  },
  {
   "cell_type": "code",
   "execution_count": 188,
   "metadata": {},
   "outputs": [
    {
     "data": {
      "text/plain": [
       "array([[[ 10152.30086548,   3976.55732821],\n",
       "        [  3976.55732821,  11267.44255165]],\n",
       "\n",
       "       [[ 10152.30086548,   3976.55732821],\n",
       "        [  3976.55732821,  11267.44255165]],\n",
       "\n",
       "       [[ 10152.30086548,   3976.55732821],\n",
       "        [  3976.55732821,  11267.44255165]],\n",
       "\n",
       "       [[ 10152.30086548,   3976.55732821],\n",
       "        [  3976.55732821,  11267.44255165]],\n",
       "\n",
       "       [[ 10152.30086548,   3976.55732821],\n",
       "        [  3976.55732821,  11267.44255165]],\n",
       "\n",
       "       [[ 10152.30086548,   3976.55732821],\n",
       "        [  3976.55732821,  11267.44255165]],\n",
       "\n",
       "       [[ 10152.30086548,   3976.55732821],\n",
       "        [  3976.55732821,  11267.44255165]],\n",
       "\n",
       "       [[ 10152.30086548,   3976.55732821],\n",
       "        [  3976.55732821,  11267.44255165]]])"
      ]
     },
     "execution_count": 188,
     "metadata": {},
     "output_type": "execute_result"
    }
   ],
   "source": [
    "mod.covariances"
   ]
  },
  {
   "cell_type": "code",
   "execution_count": 189,
   "metadata": {},
   "outputs": [
    {
     "data": {
      "text/plain": [
       "array([[  64.3876436 ,   38.18725714],\n",
       "       [  70.59509255,   26.99840139],\n",
       "       [ 173.55309218,  133.16473432],\n",
       "       [ -14.2604749 ,   18.20456738],\n",
       "       [  57.80825214,   27.79588421],\n",
       "       [  47.39198066,   22.46090031],\n",
       "       [  71.82439473,   37.34799124],\n",
       "       [ 170.39105718,  148.14486605]])"
      ]
     },
     "execution_count": 189,
     "metadata": {},
     "output_type": "execute_result"
    }
   ],
   "source": [
    "mod.means"
   ]
  },
  {
   "cell_type": "code",
   "execution_count": 190,
   "metadata": {},
   "outputs": [
    {
     "data": {
      "text/plain": [
       "array([ 0.125,  0.125,  0.125,  0.125,  0.125,  0.125,  0.125,  0.125])"
      ]
     },
     "execution_count": 190,
     "metadata": {},
     "output_type": "execute_result"
    }
   ],
   "source": [
    "mod.lambdas"
   ]
  },
  {
   "cell_type": "markdown",
   "metadata": {},
   "source": [
    "### Running EM on the GMM\n",
    "\n",
    "Log Likelihoods in every iteration are printed"
   ]
  },
  {
   "cell_type": "code",
   "execution_count": null,
   "metadata": {
    "scrolled": true
   },
   "outputs": [
    {
     "name": "stderr",
     "output_type": "stream",
     "text": [
      "/home/krishanu/anaconda2/lib/python2.7/site-packages/ipykernel_launcher.py:49: RuntimeWarning: invalid value encountered in log\n"
     ]
    },
    {
     "name": "stdout",
     "output_type": "stream",
     "text": [
      "Iteration 0, Log Likelihood -5930.95600887\n"
     ]
    },
    {
     "name": "stderr",
     "output_type": "stream",
     "text": [
      "/home/krishanu/anaconda2/lib/python2.7/site-packages/ipykernel_launcher.py:49: RuntimeWarning: divide by zero encountered in log\n"
     ]
    },
    {
     "name": "stdout",
     "output_type": "stream",
     "text": [
      "Iteration 25, Log Likelihood -4816.43176944\n",
      "Iteration 50, Log Likelihood -4832.99858121\n",
      "Iteration 75, Log Likelihood -4947.7769838\n",
      "Iteration 100, Log Likelihood -4805.58647068\n",
      "Iteration 125, Log Likelihood -4783.48161518\n",
      "Iteration 150, Log Likelihood -4708.2908033\n",
      "Iteration 175, Log Likelihood -4907.26299498\n",
      "Iteration 200, Log Likelihood -4832.84350244\n",
      "Iteration 225, Log Likelihood -4793.58066477\n",
      "Iteration 250, Log Likelihood -4669.59032048\n",
      "Iteration 275, Log Likelihood -4837.69011703\n",
      "Iteration 300, Log Likelihood -4579.83392166\n",
      "Iteration 325, Log Likelihood -4827.33361565\n",
      "Iteration 350, Log Likelihood -4879.60429967\n",
      "Iteration 375, Log Likelihood -4738.74229922\n",
      "Iteration 400, Log Likelihood -4654.85849736\n",
      "Iteration 425, Log Likelihood -4894.21031342\n",
      "Iteration 450, Log Likelihood -4847.6272423\n"
     ]
    }
   ],
   "source": [
    "likelihoods = mod.EM(500)"
   ]
  },
  {
   "cell_type": "code",
   "execution_count": 175,
   "metadata": {},
   "outputs": [
    {
     "data": {
      "image/png": "[encoded data removed]",
      "text/plain": [
       "<matplotlib.figure.Figure at 0x7fcb7e8fa550>"
      ]
     },
     "metadata": {},
     "output_type": "display_data"
    }
   ],
   "source": [
    "plt.figure(figsize=(10, 5))\n",
    "plt.plot(likelihoods)\n",
    "plt.ylabel(\"Log Likelihood of Data given Parameters\")\n",
    "plt.xlabel(\"Iterations\")\n",
    "plt.show()"
   ]
  },
  {
   "cell_type": "markdown",
   "metadata": {},
   "source": [
    "### Model parameters after EM"
   ]
  },
  {
   "cell_type": "code",
   "execution_count": 176,
   "metadata": {},
   "outputs": [
    {
     "data": {
      "text/plain": [
       "array([[[  3.29599845e+03,  -9.69416918e+02],\n",
       "        [ -9.69416918e+02,   4.19542054e+02]],\n",
       "\n",
       "       [[  1.11212075e+04,   5.58979196e+03],\n",
       "        [  5.58979196e+03,   2.89638098e+03]],\n",
       "\n",
       "       [[  1.80991295e+02,   1.60980585e+01],\n",
       "        [  1.60980585e+01,   1.23062825e+02]],\n",
       "\n",
       "       [[  5.81288633e+01,   4.18811658e+00],\n",
       "        [  4.18811658e+00,   7.32954221e+01]],\n",
       "\n",
       "       [[  1.41198896e+03,   7.44134653e+02],\n",
       "        [  7.44134653e+02,   4.26578803e+02]]])"
      ]
     },
     "execution_count": 176,
     "metadata": {},
     "output_type": "execute_result"
    }
   ],
   "source": [
    "mod.covariances"
   ]
  },
  {
   "cell_type": "code",
   "execution_count": 177,
   "metadata": {},
   "outputs": [
    {
     "data": {
      "text/plain": [
       "array([ 0.43576025,  0.22307704,  0.106     ,  0.09406176,  0.14110095])"
      ]
     },
     "execution_count": 177,
     "metadata": {},
     "output_type": "execute_result"
    }
   ],
   "source": [
    "mod.lambdas"
   ]
  },
  {
   "cell_type": "code",
   "execution_count": 178,
   "metadata": {},
   "outputs": [
    {
     "data": {
      "text/plain": [
       "array([[ 106.42252553,   24.43122852],\n",
       "       [ 242.63396632,  171.55918777],\n",
       "       [  74.79822781,  325.96254461],\n",
       "       [ -15.10711087,   14.42685984],\n",
       "       [  51.90360291,   28.08784625]])"
      ]
     },
     "execution_count": 178,
     "metadata": {},
     "output_type": "execute_result"
    }
   ],
   "source": [
    "mod.means"
   ]
  },
  {
   "cell_type": "code",
   "execution_count": 185,
   "metadata": {
    "collapsed": true
   },
   "outputs": [],
   "source": [
    "gen_data = mod.generate_data(1000)"
   ]
  },
  {
   "cell_type": "code",
   "execution_count": 186,
   "metadata": {},
   "outputs": [
    {
     "data": {
      "image/png": "[encoded data removed]",
      "text/plain": [
       "<matplotlib.figure.Figure at 0x7fcb7e6fad50>"
      ]
     },
     "metadata": {},
     "output_type": "display_data"
    }
   ],
   "source": [
    "plt.scatter(gen_data[:, 0], gen_data[:, 1])\n",
    "plt.show()"
   ]
  },
  {
   "cell_type": "code",
   "execution_count": null,
   "metadata": {
    "collapsed": true
   },
   "outputs": [],
   "source": []
  }
 ],
 "metadata": {
  "kernelspec": {
   "display_name": "Python 2",
   "language": "python",
   "name": "python2"
  },
  "language_info": {
   "codemirror_mode": {
    "name": "ipython",
    "version": 2
   },
   "file_extension": ".py",
   "mimetype": "text/x-python",
   "name": "python",
   "nbconvert_exporter": "python",
   "pygments_lexer": "ipython2",
   "version": "2.7.13"
  }
 },
 "nbformat": 4,
 "nbformat_minor": 2
}
